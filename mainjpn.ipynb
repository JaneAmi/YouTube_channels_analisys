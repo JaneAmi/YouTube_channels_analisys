{
 "cells": [
  {
   "attachments": {},
   "cell_type": "markdown",
   "metadata": {},
   "source": [
    "<h2><b>Analysis of the impact of the Ukrainian war on YouTube channels of some Russian bloggers about politic</b></h2>"
   ]
  },
  {
   "attachments": {},
   "cell_type": "markdown",
   "metadata": {},
   "source": [
    "<h3>Project description</h3>\n",
    "\n",
    "There were a lof of changes for many russians after 24th February 2022, when the unfair dicision about the invasion in Ukraine was taken by the malicious russian president. Answers on lots of questions were needed, like \"how to live further?\", \"why it's happening?\", \"is there any valid reason?\" and so forth. To get the answers the majority of russian people were getting an information from independent medias using platforms such as YouTube, Telegram and so on.\n",
    "\n",
    "This project was made to find (if they were) and analyse changes in some popular YouTube channels of bloggers, who talks about russian politics.\n",
    "\n",
    "Next questions shoud be answered:\n",
    "1. How activity of the bloggers was changed after 24th Februry 2022?\n",
    "2. How popularity of the channels was changed after 24th Februry 2022?\n",
    "3. Which is the most popular word accorting to tags?\n",
    "\n",
    "\n",
    "The most channels, which were choosen for the current project, are so-called liberal, because almost all russian propaganda channels have been blocked by YouTube administration. As the result, the initial data could be lightly biased. But, anyway, the results of the project, hopefully, will shows how independed media are important and in demand.\n",
    "\n",
    "For the project next channels were choosen to analyse:\n",
    "1. https://www.youtube.com/@Ekaterina_Schulmann\n",
    "2. https://www.youtube.com/@varlamov\n",
    "3. https://www.youtube.com/@Max_Katz\n",
    "4. https://www.youtube.com/@besogontv (pro-Kremlin)"
   ]
  },
  {
   "attachments": {},
   "cell_type": "markdown",
   "metadata": {},
   "source": [
    "<h4>Used libraries</h4>\n",
    "\n",
    "All custom function are store separately in the file yout_an_func.py"
   ]
  },
  {
   "cell_type": "code",
   "execution_count": 1,
   "metadata": {},
   "outputs": [
    {
     "data": {
      "application/javascript": "(function(root) {\n  function now() {\n    return new Date();\n  }\n\n  var force = true;\n\n  if (typeof root._bokeh_onload_callbacks === \"undefined\" || force === true) {\n    root._bokeh_onload_callbacks = [];\n    root._bokeh_is_loading = undefined;\n  }\n\n  if (typeof (root._bokeh_timeout) === \"undefined\" || force === true) {\n    root._bokeh_timeout = Date.now() + 5000;\n    root._bokeh_failed_load = false;\n  }\n\n  function run_callbacks() {\n    try {\n      root._bokeh_onload_callbacks.forEach(function(callback) {\n        if (callback != null)\n          callback();\n      });\n    } finally {\n      delete root._bokeh_onload_callbacks\n    }\n    console.debug(\"Bokeh: all callbacks have finished\");\n  }\n\n  function load_libs(css_urls, js_urls, js_modules, callback) {\n    if (css_urls == null) css_urls = [];\n    if (js_urls == null) js_urls = [];\n    if (js_modules == null) js_modules = [];\n\n    root._bokeh_onload_callbacks.push(callback);\n    if (root._bokeh_is_loading > 0) {\n      console.debug(\"Bokeh: BokehJS is being loaded, scheduling callback at\", now());\n      return null;\n    }\n    if (js_urls.length === 0 && js_modules.length === 0) {\n      run_callbacks();\n      return null;\n    }\n    console.debug(\"Bokeh: BokehJS not loaded, scheduling load and callback at\", now());\n\n    function on_load() {\n      root._bokeh_is_loading--;\n      if (root._bokeh_is_loading === 0) {\n        console.debug(\"Bokeh: all BokehJS libraries/stylesheets loaded\");\n        run_callbacks()\n      }\n    }\n\n    function on_error() {\n      console.error(\"failed to load \" + url);\n    }\n\n    for (var i = 0; i < css_urls.length; i++) {\n      var url = css_urls[i];\n      const element = document.createElement(\"link\");\n      element.onload = on_load;\n      element.onerror = on_error;\n      element.rel = \"stylesheet\";\n      element.type = \"text/css\";\n      element.href = url;\n      console.debug(\"Bokeh: injecting link tag for BokehJS stylesheet: \", url);\n      document.body.appendChild(element);\n    }\n\n    var skip = [];\n    if (window.requirejs) {\n      window.requirejs.config({'packages': {}, 'paths': {'gridstack': 'https://cdn.jsdelivr.net/npm/gridstack@4.2.5/dist/gridstack-h5', 'notyf': 'https://cdn.jsdelivr.net/npm/notyf@3/notyf.min'}, 'shim': {'gridstack': {'exports': 'GridStack'}}});\n      require([\"gridstack\"], function(GridStack) {\n\twindow.GridStack = GridStack\n\ton_load()\n      })\n      require([\"notyf\"], function() {\n\ton_load()\n      })\n      root._bokeh_is_loading = css_urls.length + 2;\n    } else {\n      root._bokeh_is_loading = css_urls.length + js_urls.length + js_modules.length;\n    }    if (((window['GridStack'] !== undefined) && (!(window['GridStack'] instanceof HTMLElement))) || window.requirejs) {\n      var urls = ['https://cdn.holoviz.org/panel/0.14.3/dist/bundled/gridstack/gridstack@4.2.5/dist/gridstack-h5.js'];\n      for (var i = 0; i < urls.length; i++) {\n        skip.push(urls[i])\n      }\n    }    if (((window['Notyf'] !== undefined) && (!(window['Notyf'] instanceof HTMLElement))) || window.requirejs) {\n      var urls = ['https://cdn.holoviz.org/panel/0.14.3/dist/bundled/notificationarea/notyf@3/notyf.min.js'];\n      for (var i = 0; i < urls.length; i++) {\n        skip.push(urls[i])\n      }\n    }    for (var i = 0; i < js_urls.length; i++) {\n      var url = js_urls[i];\n      if (skip.indexOf(url) >= 0) {\n\tif (!window.requirejs) {\n\t  on_load();\n\t}\n\tcontinue;\n      }\n      var element = document.createElement('script');\n      element.onload = on_load;\n      element.onerror = on_error;\n      element.async = false;\n      element.src = url;\n      console.debug(\"Bokeh: injecting script tag for BokehJS library: \", url);\n      document.head.appendChild(element);\n    }\n    for (var i = 0; i < js_modules.length; i++) {\n      var url = js_modules[i];\n      if (skip.indexOf(url) >= 0) {\n\tif (!window.requirejs) {\n\t  on_load();\n\t}\n\tcontinue;\n      }\n      var element = document.createElement('script');\n      element.onload = on_load;\n      element.onerror = on_error;\n      element.async = false;\n      element.src = url;\n      element.type = \"module\";\n      console.debug(\"Bokeh: injecting script tag for BokehJS library: \", url);\n      document.head.appendChild(element);\n    }\n    if (!js_urls.length && !js_modules.length) {\n      on_load()\n    }\n  };\n\n  function inject_raw_css(css) {\n    const element = document.createElement(\"style\");\n    element.appendChild(document.createTextNode(css));\n    document.body.appendChild(element);\n  }\n\n  var js_urls = [\"https://cdn.bokeh.org/bokeh/release/bokeh-2.4.3.min.js\", \"https://cdn.bokeh.org/bokeh/release/bokeh-gl-2.4.3.min.js\", \"https://cdn.bokeh.org/bokeh/release/bokeh-widgets-2.4.3.min.js\", \"https://cdn.bokeh.org/bokeh/release/bokeh-tables-2.4.3.min.js\", \"https://cdn.bokeh.org/bokeh/release/bokeh-mathjax-2.4.3.min.js\", \"https://unpkg.com/@holoviz/panel@0.14.3/dist/panel.min.js\"];\n  var js_modules = [];\n  var css_urls = [\"https://cdn.holoviz.org/panel/0.14.3/dist/css/alerts.css\", \"https://cdn.holoviz.org/panel/0.14.3/dist/css/card.css\", \"https://cdn.holoviz.org/panel/0.14.3/dist/css/dataframe.css\", \"https://cdn.holoviz.org/panel/0.14.3/dist/css/debugger.css\", \"https://cdn.holoviz.org/panel/0.14.3/dist/css/json.css\", \"https://cdn.holoviz.org/panel/0.14.3/dist/css/loading.css\", \"https://cdn.holoviz.org/panel/0.14.3/dist/css/markdown.css\", \"https://cdn.holoviz.org/panel/0.14.3/dist/css/widgets.css\"];\n  var inline_js = [    function(Bokeh) {\n      inject_raw_css(\"\\n    .bk.pn-loading.arc:before {\\n      background-image: url(\\\"data:image/svg+xml;base64,PHN2ZyB4bWxucz0iaHR0cDovL3d3dy53My5vcmcvMjAwMC9zdmciIHN0eWxlPSJtYXJnaW46IGF1dG87IGJhY2tncm91bmQ6IG5vbmU7IGRpc3BsYXk6IGJsb2NrOyBzaGFwZS1yZW5kZXJpbmc6IGF1dG87IiB2aWV3Qm94PSIwIDAgMTAwIDEwMCIgcHJlc2VydmVBc3BlY3RSYXRpbz0ieE1pZFlNaWQiPiAgPGNpcmNsZSBjeD0iNTAiIGN5PSI1MCIgZmlsbD0ibm9uZSIgc3Ryb2tlPSIjYzNjM2MzIiBzdHJva2Utd2lkdGg9IjEwIiByPSIzNSIgc3Ryb2tlLWRhc2hhcnJheT0iMTY0LjkzMzYxNDMxMzQ2NDE1IDU2Ljk3Nzg3MTQzNzgyMTM4Ij4gICAgPGFuaW1hdGVUcmFuc2Zvcm0gYXR0cmlidXRlTmFtZT0idHJhbnNmb3JtIiB0eXBlPSJyb3RhdGUiIHJlcGVhdENvdW50PSJpbmRlZmluaXRlIiBkdXI9IjFzIiB2YWx1ZXM9IjAgNTAgNTA7MzYwIDUwIDUwIiBrZXlUaW1lcz0iMDsxIj48L2FuaW1hdGVUcmFuc2Zvcm0+ICA8L2NpcmNsZT48L3N2Zz4=\\\");\\n      background-size: auto calc(min(50%, 400px));\\n    }\\n    \");\n    },    function(Bokeh) {\n      Bokeh.set_log_level(\"info\");\n    },\nfunction(Bokeh) {} // ensure no trailing comma for IE\n  ];\n\n  function run_inline_js() {\n    if ((root.Bokeh !== undefined) || (force === true)) {\n      for (var i = 0; i < inline_js.length; i++) {\n        inline_js[i].call(root, root.Bokeh);\n      }} else if (Date.now() < root._bokeh_timeout) {\n      setTimeout(run_inline_js, 100);\n    } else if (!root._bokeh_failed_load) {\n      console.log(\"Bokeh: BokehJS failed to load within specified timeout.\");\n      root._bokeh_failed_load = true;\n    }\n  }\n\n  if (root._bokeh_is_loading === 0) {\n    console.debug(\"Bokeh: BokehJS loaded, going straight to plotting\");\n    run_inline_js();\n  } else {\n    load_libs(css_urls, js_urls, js_modules, function() {\n      console.debug(\"Bokeh: BokehJS plotting callback run at\", now());\n      run_inline_js();\n    });\n  }\n}(window));",
      "application/vnd.holoviews_load.v0+json": ""
     },
     "metadata": {},
     "output_type": "display_data"
    },
    {
     "data": {
      "application/javascript": "\nif ((window.PyViz === undefined) || (window.PyViz instanceof HTMLElement)) {\n  window.PyViz = {comms: {}, comm_status:{}, kernels:{}, receivers: {}, plot_index: []}\n}\n\n\n    function JupyterCommManager() {\n    }\n\n    JupyterCommManager.prototype.register_target = function(plot_id, comm_id, msg_handler) {\n      if (window.comm_manager || ((window.Jupyter !== undefined) && (Jupyter.notebook.kernel != null))) {\n        var comm_manager = window.comm_manager || Jupyter.notebook.kernel.comm_manager;\n        comm_manager.register_target(comm_id, function(comm) {\n          comm.on_msg(msg_handler);\n        });\n      } else if ((plot_id in window.PyViz.kernels) && (window.PyViz.kernels[plot_id])) {\n        window.PyViz.kernels[plot_id].registerCommTarget(comm_id, function(comm) {\n          comm.onMsg = msg_handler;\n        });\n      } else if (typeof google != 'undefined' && google.colab.kernel != null) {\n        google.colab.kernel.comms.registerTarget(comm_id, (comm) => {\n          var messages = comm.messages[Symbol.asyncIterator]();\n          function processIteratorResult(result) {\n            var message = result.value;\n            console.log(message)\n            var content = {data: message.data, comm_id};\n            var buffers = []\n            for (var buffer of message.buffers || []) {\n              buffers.push(new DataView(buffer))\n            }\n            var metadata = message.metadata || {};\n            var msg = {content, buffers, metadata}\n            msg_handler(msg);\n            return messages.next().then(processIteratorResult);\n          }\n          return messages.next().then(processIteratorResult);\n        })\n      }\n    }\n\n    JupyterCommManager.prototype.get_client_comm = function(plot_id, comm_id, msg_handler) {\n      if (comm_id in window.PyViz.comms) {\n        return window.PyViz.comms[comm_id];\n      } else if (window.comm_manager || ((window.Jupyter !== undefined) && (Jupyter.notebook.kernel != null))) {\n        var comm_manager = window.comm_manager || Jupyter.notebook.kernel.comm_manager;\n        var comm = comm_manager.new_comm(comm_id, {}, {}, {}, comm_id);\n        if (msg_handler) {\n          comm.on_msg(msg_handler);\n        }\n      } else if ((plot_id in window.PyViz.kernels) && (window.PyViz.kernels[plot_id])) {\n        var comm = window.PyViz.kernels[plot_id].connectToComm(comm_id);\n        comm.open();\n        if (msg_handler) {\n          comm.onMsg = msg_handler;\n        }\n      } else if (typeof google != 'undefined' && google.colab.kernel != null) {\n        var comm_promise = google.colab.kernel.comms.open(comm_id)\n        comm_promise.then((comm) => {\n          window.PyViz.comms[comm_id] = comm;\n          if (msg_handler) {\n            var messages = comm.messages[Symbol.asyncIterator]();\n            function processIteratorResult(result) {\n              var message = result.value;\n              var content = {data: message.data};\n              var metadata = message.metadata || {comm_id};\n              var msg = {content, metadata}\n              msg_handler(msg);\n              return messages.next().then(processIteratorResult);\n            }\n            return messages.next().then(processIteratorResult);\n          }\n        }) \n        var sendClosure = (data, metadata, buffers, disposeOnDone) => {\n          return comm_promise.then((comm) => {\n            comm.send(data, metadata, buffers, disposeOnDone);\n          });\n        };\n        var comm = {\n          send: sendClosure\n        };\n      }\n      window.PyViz.comms[comm_id] = comm;\n      return comm;\n    }\n    window.PyViz.comm_manager = new JupyterCommManager();\n    \n\n\nvar JS_MIME_TYPE = 'application/javascript';\nvar HTML_MIME_TYPE = 'text/html';\nvar EXEC_MIME_TYPE = 'application/vnd.holoviews_exec.v0+json';\nvar CLASS_NAME = 'output';\n\n/**\n * Render data to the DOM node\n */\nfunction render(props, node) {\n  var div = document.createElement(\"div\");\n  var script = document.createElement(\"script\");\n  node.appendChild(div);\n  node.appendChild(script);\n}\n\n/**\n * Handle when a new output is added\n */\nfunction handle_add_output(event, handle) {\n  var output_area = handle.output_area;\n  var output = handle.output;\n  if ((output.data == undefined) || (!output.data.hasOwnProperty(EXEC_MIME_TYPE))) {\n    return\n  }\n  var id = output.metadata[EXEC_MIME_TYPE][\"id\"];\n  var toinsert = output_area.element.find(\".\" + CLASS_NAME.split(' ')[0]);\n  if (id !== undefined) {\n    var nchildren = toinsert.length;\n    var html_node = toinsert[nchildren-1].children[0];\n    html_node.innerHTML = output.data[HTML_MIME_TYPE];\n    var scripts = [];\n    var nodelist = html_node.querySelectorAll(\"script\");\n    for (var i in nodelist) {\n      if (nodelist.hasOwnProperty(i)) {\n        scripts.push(nodelist[i])\n      }\n    }\n\n    scripts.forEach( function (oldScript) {\n      var newScript = document.createElement(\"script\");\n      var attrs = [];\n      var nodemap = oldScript.attributes;\n      for (var j in nodemap) {\n        if (nodemap.hasOwnProperty(j)) {\n          attrs.push(nodemap[j])\n        }\n      }\n      attrs.forEach(function(attr) { newScript.setAttribute(attr.name, attr.value) });\n      newScript.appendChild(document.createTextNode(oldScript.innerHTML));\n      oldScript.parentNode.replaceChild(newScript, oldScript);\n    });\n    if (JS_MIME_TYPE in output.data) {\n      toinsert[nchildren-1].children[1].textContent = output.data[JS_MIME_TYPE];\n    }\n    output_area._hv_plot_id = id;\n    if ((window.Bokeh !== undefined) && (id in Bokeh.index)) {\n      window.PyViz.plot_index[id] = Bokeh.index[id];\n    } else {\n      window.PyViz.plot_index[id] = null;\n    }\n  } else if (output.metadata[EXEC_MIME_TYPE][\"server_id\"] !== undefined) {\n    var bk_div = document.createElement(\"div\");\n    bk_div.innerHTML = output.data[HTML_MIME_TYPE];\n    var script_attrs = bk_div.children[0].attributes;\n    for (var i = 0; i < script_attrs.length; i++) {\n      toinsert[toinsert.length - 1].childNodes[1].setAttribute(script_attrs[i].name, script_attrs[i].value);\n    }\n    // store reference to server id on output_area\n    output_area._bokeh_server_id = output.metadata[EXEC_MIME_TYPE][\"server_id\"];\n  }\n}\n\n/**\n * Handle when an output is cleared or removed\n */\nfunction handle_clear_output(event, handle) {\n  var id = handle.cell.output_area._hv_plot_id;\n  var server_id = handle.cell.output_area._bokeh_server_id;\n  if (((id === undefined) || !(id in PyViz.plot_index)) && (server_id !== undefined)) { return; }\n  var comm = window.PyViz.comm_manager.get_client_comm(\"hv-extension-comm\", \"hv-extension-comm\", function () {});\n  if (server_id !== null) {\n    comm.send({event_type: 'server_delete', 'id': server_id});\n    return;\n  } else if (comm !== null) {\n    comm.send({event_type: 'delete', 'id': id});\n  }\n  delete PyViz.plot_index[id];\n  if ((window.Bokeh !== undefined) & (id in window.Bokeh.index)) {\n    var doc = window.Bokeh.index[id].model.document\n    doc.clear();\n    const i = window.Bokeh.documents.indexOf(doc);\n    if (i > -1) {\n      window.Bokeh.documents.splice(i, 1);\n    }\n  }\n}\n\n/**\n * Handle kernel restart event\n */\nfunction handle_kernel_cleanup(event, handle) {\n  delete PyViz.comms[\"hv-extension-comm\"];\n  window.PyViz.plot_index = {}\n}\n\n/**\n * Handle update_display_data messages\n */\nfunction handle_update_output(event, handle) {\n  handle_clear_output(event, {cell: {output_area: handle.output_area}})\n  handle_add_output(event, handle)\n}\n\nfunction register_renderer(events, OutputArea) {\n  function append_mime(data, metadata, element) {\n    // create a DOM node to render to\n    var toinsert = this.create_output_subarea(\n    metadata,\n    CLASS_NAME,\n    EXEC_MIME_TYPE\n    );\n    this.keyboard_manager.register_events(toinsert);\n    // Render to node\n    var props = {data: data, metadata: metadata[EXEC_MIME_TYPE]};\n    render(props, toinsert[0]);\n    element.append(toinsert);\n    return toinsert\n  }\n\n  events.on('output_added.OutputArea', handle_add_output);\n  events.on('output_updated.OutputArea', handle_update_output);\n  events.on('clear_output.CodeCell', handle_clear_output);\n  events.on('delete.Cell', handle_clear_output);\n  events.on('kernel_ready.Kernel', handle_kernel_cleanup);\n\n  OutputArea.prototype.register_mime_type(EXEC_MIME_TYPE, append_mime, {\n    safe: true,\n    index: 0\n  });\n}\n\nif (window.Jupyter !== undefined) {\n  try {\n    var events = require('base/js/events');\n    var OutputArea = require('notebook/js/outputarea').OutputArea;\n    if (OutputArea.prototype.mime_types().indexOf(EXEC_MIME_TYPE) == -1) {\n      register_renderer(events, OutputArea);\n    }\n  } catch(err) {\n  }\n}\n",
      "application/vnd.holoviews_load.v0+json": ""
     },
     "metadata": {},
     "output_type": "display_data"
    },
    {
     "data": {
      "text/html": [
       "<style>.bk-root, .bk-root .bk:before, .bk-root .bk:after {\n",
       "  font-family: var(--jp-ui-font-size1);\n",
       "  font-size: var(--jp-ui-font-size1);\n",
       "  color: var(--jp-ui-font-color1);\n",
       "}\n",
       "</style>"
      ]
     },
     "metadata": {},
     "output_type": "display_data"
    }
   ],
   "source": [
    "# for work with YouTube API\n",
    "from googleapiclient.discovery import build\n",
    "\n",
    "# for data processing\n",
    "import pandas as pd\n",
    "import sqlite3 as sq\n",
    "from dateutil import parser\n",
    "import isodate\n",
    "import openpyxl\n",
    "from itertools import chain\n",
    "\n",
    "# for data visualization\n",
    "import panel as pn\n",
    "pn.extension()\n",
    "\n",
    "import hvplot.pandas\n",
    "from wordcloud import WordCloud\n",
    "\n",
    "#  custom functions\n",
    "import yout_an_func as yaf "
   ]
  },
  {
   "attachments": {},
   "cell_type": "markdown",
   "metadata": {},
   "source": [
    "<h3>Collecting the data</h3>"
   ]
  },
  {
   "attachments": {},
   "cell_type": "markdown",
   "metadata": {},
   "source": [
    "<h4>Stage description</h4>\n",
    "\n",
    "Since necessary data is on YouTube the best way to get it is to use YouTube API. For this purpose next steps are required:\n",
    "- manually find the YouTube channels ID on the platform;\n",
    "- find owned API key on console.cloud.google.com; \n",
    "- explore an official documentation about YouTube API https://developers.google.com/.\n",
    "<br><br>\n",
    "\n",
    "After studying YouTube API documentation the next actions were decided:\n",
    "1. using YouTube API resource \"channels\" and method \"list\" general data about channels will be download and put into DataFrame (channel_info);\n",
    "2. using channels playlist ID from the recieved information about channels and YouTube API resourse \"playlistItems\" the array (python list) with all videos IDs will be created (video_ids);\n",
    "3. using YouTube API resource \"videos\" and the abovementioned array with video IDs each video data will be extract and stored in another DataFrame (video_df).\n",
    "\n",
    "Created tables will have all data wich is required for further analysis and getting the results."
   ]
  },
  {
   "cell_type": "code",
   "execution_count": 2,
   "metadata": {},
   "outputs": [],
   "source": [
    "# Екатерина Шульман (id UCL1rJ0ROIw9V1qFeIN0ZTZQ)\n",
    "# Илья Варламов  (id UC101o-vQ2iOj9vr00JUlyKw)\n",
    "# Максим Кац (id UCUGfDbfRIx51kJGGHIFo8Rw)\n",
    "# Бесогон ТВ (id UCiwIy5q59aD-Nph5f-Zvp2A)\n",
    "channel_ids = ['UCiwIy5q59aD-Nph5f-Zvp2A', 'UCL1rJ0ROIw9V1qFeIN0ZTZQ',\n",
    "'UC101o-vQ2iOj9vr00JUlyKw', 'UCUGfDbfRIx51kJGGHIFo8Rw']  \n",
    "\n",
    "# get owned API key from console.cloud.google.com\n",
    "api_key = \"\"\n",
    "\n",
    "# Get credentials and create an API client\n",
    "youtube = build(\"youtube\", \"v3\", developerKey=api_key)"
   ]
  },
  {
   "attachments": {},
   "cell_type": "markdown",
   "metadata": {},
   "source": [
    "<h4>Getting information from YouTube using custom module \"yout_an_func.py\" </h4>"
   ]
  },
  {
   "cell_type": "code",
   "execution_count": 3,
   "metadata": {},
   "outputs": [
    {
     "name": "stdout",
     "output_type": "stream",
     "text": [
      "Channels: (4, 9), \n",
      "Videos: (3759, 10)\n"
     ]
    }
   ],
   "source": [
    "# step 1: creating DataFrame with channels data\n",
    "channel_info = yaf.get_channel_info(youtube, channel_ids)\n",
    "\n",
    "# step 2: creating the list with all videos ID\n",
    "all_video_ids = yaf.full_list_of_videos(youtube, channel_info)\n",
    "\n",
    "# step 3: creating DataFrame with videos data\n",
    "video_df = yaf.get_video_details(youtube, all_video_ids)\n",
    "\n",
    "# naming created tables for further convenience\n",
    "channel_info.name = \"Channels\"\n",
    "video_df.name = \"Videos\"\n",
    "\n",
    "# checking the sizes of created tables, they must be plausible\n",
    "print(f'''{channel_info.name}: {channel_info.shape}, \n",
    "{video_df.name}: {video_df.shape}''')"
   ]
  },
  {
   "attachments": {},
   "cell_type": "markdown",
   "metadata": {},
   "source": [
    "<h3>Exploring and pre-processing the data</h3>"
   ]
  },
  {
   "attachments": {},
   "cell_type": "markdown",
   "metadata": {},
   "source": [
    "<h4>Stage description</h4>\n",
    "\n",
    "Since the data was collected straight from YouTube, so-called second-party data, inherently it should be homogeneous and shouldn't have duplicates. However, there is still work to be done in the pre-processing stage, such as:\n",
    "1. identification and analysis of missing values, making a decision on the need for any operations with them;\n",
    "2. data type checking and correction;\n",
    "3. data normalization if needed."
   ]
  },
  {
   "cell_type": "code",
   "execution_count": 4,
   "metadata": {},
   "outputs": [],
   "source": [
    "# making copies of created DF just to be on the safe side\n",
    "c_channel_info = channel_info.copy()\n",
    "c_video_df = video_df.copy()"
   ]
  },
  {
   "attachments": {},
   "cell_type": "markdown",
   "metadata": {},
   "source": [
    "<h4>Missing data</h4>\n",
    "\n",
    "During this step it's necessary to check which columns in the created tables have NULL values and make sure that they do not negatively  affect on the final result of the project.\n",
    "\n",
    "Let's find columns with null values:"
   ]
  },
  {
   "cell_type": "code",
   "execution_count": 5,
   "metadata": {},
   "outputs": [
    {
     "name": "stdout",
     "output_type": "stream",
     "text": [
      "There is not missing date in table \"Channels\"\n",
      "Table \"Videos\" has 618 null values in column \"tags\"\n",
      "Table \"Videos\" has 5 null values in column \"commentCount\"\n"
     ]
    }
   ],
   "source": [
    "yaf.miss_data_cnames(channel_info, video_df)"
   ]
  },
  {
   "attachments": {},
   "cell_type": "markdown",
   "metadata": {},
   "source": [
    "The above result expected shows that there is no missing of crusial data. But for further convenience, in the column \"commentCount\" we'll fill Null values as 0. "
   ]
  },
  {
   "cell_type": "code",
   "execution_count": 6,
   "metadata": {},
   "outputs": [],
   "source": [
    "video_df['commentCount'] = video_df['commentCount'].fillna(0)"
   ]
  },
  {
   "attachments": {},
   "cell_type": "markdown",
   "metadata": {},
   "source": [
    "<h4>Data type</h4>\n",
    "\n",
    "For further analysis it's necessary that each column has a relevant type of data. Columns with quantitative data should have numeric type of data."
   ]
  },
  {
   "cell_type": "code",
   "execution_count": 7,
   "metadata": {},
   "outputs": [
    {
     "name": "stdout",
     "output_type": "stream",
     "text": [
      "channelId             object\n",
      "channelName           object\n",
      "customURL             object\n",
      "channelDescribtion    object\n",
      "subscribers           object\n",
      "views                 object\n",
      "totalVideos           object\n",
      "playlistId            object\n",
      "topicCategories       object\n",
      "dtype: object\n"
     ]
    },
    {
     "data": {
      "text/plain": [
       "video_id        object\n",
       "channelId       object\n",
       "title           object\n",
       "description     object\n",
       "tags            object\n",
       "publishedAt     object\n",
       "viewCount       object\n",
       "likeCount       object\n",
       "commentCount    object\n",
       "duration        object\n",
       "dtype: object"
      ]
     },
     "execution_count": 7,
     "metadata": {},
     "output_type": "execute_result"
    }
   ],
   "source": [
    "# checking datatypes in tables\n",
    "print(channel_info.dtypes)\n",
    "video_df.dtypes"
   ]
  },
  {
   "attachments": {},
   "cell_type": "markdown",
   "metadata": {},
   "source": [
    "Numeric columns.\n",
    "\n",
    "As we see all columns have one data type, which is not correct. There are several columns which obviously should be numeric. Now let's fix it."
   ]
  },
  {
   "cell_type": "code",
   "execution_count": 8,
   "metadata": {},
   "outputs": [],
   "source": [
    "# defining numeric columns for Channels table and updating data type\n",
    "numeric_cols = ['subscribers', 'views', 'totalVideos']\n",
    "channel_info[numeric_cols] = channel_info[numeric_cols].apply(pd.to_numeric)\n",
    "\n",
    "# defining numeric columns for Videos table and updating data type\n",
    "numeric_cols = ['viewCount', 'likeCount', 'commentCount']\n",
    "video_df[numeric_cols] = video_df[numeric_cols].astype(\"int64\")"
   ]
  },
  {
   "attachments": {},
   "cell_type": "markdown",
   "metadata": {},
   "source": [
    "Datetime data.\n",
    "\n",
    "There are two columns with values about date and/or time in \"Videos\" table. Let's convert them to a proper format."
   ]
  },
  {
   "cell_type": "code",
   "execution_count": 9,
   "metadata": {},
   "outputs": [],
   "source": [
    "video_df['publishedAt'] = video_df['publishedAt'].apply(lambda x: parser.parse(x)) # parsing data\n",
    "video_df['publishedAt'] = pd.to_datetime(video_df['publishedAt'].dt.tz_localize(None), \\\n",
    "    format=\"%m/%d/%Y, %H:%M:%S\") # removing time zone and changing data format\n",
    "\n",
    "#converting duration column from strange YouTube format into seconds, but it'll store in float64 type data\n",
    "video_df['duration'] = video_df['duration'].apply(lambda x: isodate.parse_duration(x).total_seconds()) "
   ]
  },
  {
   "attachments": {},
   "cell_type": "markdown",
   "metadata": {},
   "source": [
    "<h4>Data normalization</h4>\n",
    "\n",
    "During this stage data will be checked more carefully and it'll be modifyed.\n",
    "\n",
    "At first let's take a look on the table \"Channels\""
   ]
  },
  {
   "cell_type": "code",
   "execution_count": 10,
   "metadata": {},
   "outputs": [
    {
     "data": {
      "text/html": [
       "<div>\n",
       "<style scoped>\n",
       "    .dataframe tbody tr th:only-of-type {\n",
       "        vertical-align: middle;\n",
       "    }\n",
       "\n",
       "    .dataframe tbody tr th {\n",
       "        vertical-align: top;\n",
       "    }\n",
       "\n",
       "    .dataframe thead th {\n",
       "        text-align: right;\n",
       "    }\n",
       "</style>\n",
       "<table border=\"1\" class=\"dataframe\">\n",
       "  <thead>\n",
       "    <tr style=\"text-align: right;\">\n",
       "      <th></th>\n",
       "      <th>channelId</th>\n",
       "      <th>channelName</th>\n",
       "      <th>customURL</th>\n",
       "      <th>channelDescribtion</th>\n",
       "      <th>subscribers</th>\n",
       "      <th>views</th>\n",
       "      <th>totalVideos</th>\n",
       "      <th>playlistId</th>\n",
       "      <th>topicCategories</th>\n",
       "    </tr>\n",
       "  </thead>\n",
       "  <tbody>\n",
       "    <tr>\n",
       "      <th>0</th>\n",
       "      <td>UCiwIy5q59aD-Nph5f-Zvp2A</td>\n",
       "      <td>БесогонTV</td>\n",
       "      <td>@besogontv</td>\n",
       "      <td>Официальный канал авторской программы Никиты М...</td>\n",
       "      <td>1490000</td>\n",
       "      <td>132274452</td>\n",
       "      <td>252</td>\n",
       "      <td>UUiwIy5q59aD-Nph5f-Zvp2A</td>\n",
       "      <td>[https://en.wikipedia.org/wiki/Society, https:...</td>\n",
       "    </tr>\n",
       "    <tr>\n",
       "      <th>1</th>\n",
       "      <td>UCL1rJ0ROIw9V1qFeIN0ZTZQ</td>\n",
       "      <td>Екатерина Шульман</td>\n",
       "      <td>@ekaterina_schulmann</td>\n",
       "      <td>Официальный канал Екатерины Шульман\\n\\nДАННЫЙ ...</td>\n",
       "      <td>1070000</td>\n",
       "      <td>144715177</td>\n",
       "      <td>904</td>\n",
       "      <td>UUL1rJ0ROIw9V1qFeIN0ZTZQ</td>\n",
       "      <td>[https://en.wikipedia.org/wiki/Politics, https...</td>\n",
       "    </tr>\n",
       "  </tbody>\n",
       "</table>\n",
       "</div>"
      ],
      "text/plain": [
       "                  channelId        channelName             customURL  \\\n",
       "0  UCiwIy5q59aD-Nph5f-Zvp2A          БесогонTV            @besogontv   \n",
       "1  UCL1rJ0ROIw9V1qFeIN0ZTZQ  Екатерина Шульман  @ekaterina_schulmann   \n",
       "\n",
       "                                  channelDescribtion  subscribers      views  \\\n",
       "0  Официальный канал авторской программы Никиты М...      1490000  132274452   \n",
       "1  Официальный канал Екатерины Шульман\\n\\nДАННЫЙ ...      1070000  144715177   \n",
       "\n",
       "   totalVideos                playlistId  \\\n",
       "0          252  UUiwIy5q59aD-Nph5f-Zvp2A   \n",
       "1          904  UUL1rJ0ROIw9V1qFeIN0ZTZQ   \n",
       "\n",
       "                                     topicCategories  \n",
       "0  [https://en.wikipedia.org/wiki/Society, https:...  \n",
       "1  [https://en.wikipedia.org/wiki/Politics, https...  "
      ]
     },
     "execution_count": 10,
     "metadata": {},
     "output_type": "execute_result"
    }
   ],
   "source": [
    "channel_info.head(2)"
   ]
  },
  {
   "attachments": {},
   "cell_type": "markdown",
   "metadata": {},
   "source": [
    "Everything seems fine except column \"topicCategories\". There are links in the column and they are in brackets, what looks like list.\n",
    "\n",
    "Also it'll be usefull to and a column \"type\" where the channels will be marked as liberal and propaganda."
   ]
  },
  {
   "cell_type": "code",
   "execution_count": 11,
   "metadata": {},
   "outputs": [],
   "source": [
    "# remove link to wiki and list format (db won't get it)\n",
    "channel_info['topicCategories'] = channel_info['topicCategories'].apply(lambda x: \\\n",
    "    str(x).lstrip(\"[\").rstrip(\"]\").replace(\"https://en.wikipedia.org/wiki/\", \"\").replace(\"'\", \"\"))\n",
    "\n",
    "# add type column. i'll define variable with the list of propaganda channels\n",
    "pr_channels = ['UCiwIy5q59aD-Nph5f-Zvp2A']\n",
    "# def normalise_row(row, pr_channels):\n",
    "#     if row['channelId'] in pr_channels:\n",
    "#         return 'propaganda'\n",
    "#     else:\n",
    "#         return 'liberal'\n",
    "channel_info['type'] = channel_info.apply(lambda row : yaf.normalise_row(row, pr_channels), axis=1) "
   ]
  },
  {
   "attachments": {},
   "cell_type": "markdown",
   "metadata": {},
   "source": [
    "Now let's take a look on the table \"Videos\"."
   ]
  },
  {
   "cell_type": "code",
   "execution_count": 12,
   "metadata": {},
   "outputs": [
    {
     "data": {
      "text/html": [
       "<div>\n",
       "<style scoped>\n",
       "    .dataframe tbody tr th:only-of-type {\n",
       "        vertical-align: middle;\n",
       "    }\n",
       "\n",
       "    .dataframe tbody tr th {\n",
       "        vertical-align: top;\n",
       "    }\n",
       "\n",
       "    .dataframe thead th {\n",
       "        text-align: right;\n",
       "    }\n",
       "</style>\n",
       "<table border=\"1\" class=\"dataframe\">\n",
       "  <thead>\n",
       "    <tr style=\"text-align: right;\">\n",
       "      <th></th>\n",
       "      <th>video_id</th>\n",
       "      <th>channelId</th>\n",
       "      <th>title</th>\n",
       "      <th>description</th>\n",
       "      <th>tags</th>\n",
       "      <th>publishedAt</th>\n",
       "      <th>viewCount</th>\n",
       "      <th>likeCount</th>\n",
       "      <th>commentCount</th>\n",
       "      <th>duration</th>\n",
       "    </tr>\n",
       "  </thead>\n",
       "  <tbody>\n",
       "    <tr>\n",
       "      <th>0</th>\n",
       "      <td>JeaKZlqhTz0</td>\n",
       "      <td>UCiwIy5q59aD-Nph5f-Zvp2A</td>\n",
       "      <td>БесогонТВ «Жёны маркиза Карабаса»</td>\n",
       "      <td>В новом выпуске авторской программы «БесогонТВ...</td>\n",
       "      <td>[Михалков, Никита Михалков, Бесогон, БесогонТВ...</td>\n",
       "      <td>2023-02-10 09:20:00</td>\n",
       "      <td>810463</td>\n",
       "      <td>117970</td>\n",
       "      <td>20808</td>\n",
       "      <td>3780.0</td>\n",
       "    </tr>\n",
       "    <tr>\n",
       "      <th>1</th>\n",
       "      <td>kMwLWpSWaZ0</td>\n",
       "      <td>UCiwIy5q59aD-Nph5f-Zvp2A</td>\n",
       "      <td>Анонс нового выпуска БесогонТВ «Жёны маркиза К...</td>\n",
       "      <td>В новом выпуске авторской программы «БесогонТВ...</td>\n",
       "      <td>[Михалков, Никита Михалков, анонс нового выпус...</td>\n",
       "      <td>2023-02-08 07:30:06</td>\n",
       "      <td>316781</td>\n",
       "      <td>30427</td>\n",
       "      <td>3844</td>\n",
       "      <td>36.0</td>\n",
       "    </tr>\n",
       "  </tbody>\n",
       "</table>\n",
       "</div>"
      ],
      "text/plain": [
       "      video_id                 channelId  \\\n",
       "0  JeaKZlqhTz0  UCiwIy5q59aD-Nph5f-Zvp2A   \n",
       "1  kMwLWpSWaZ0  UCiwIy5q59aD-Nph5f-Zvp2A   \n",
       "\n",
       "                                               title  \\\n",
       "0                  БесогонТВ «Жёны маркиза Карабаса»   \n",
       "1  Анонс нового выпуска БесогонТВ «Жёны маркиза К...   \n",
       "\n",
       "                                         description  \\\n",
       "0  В новом выпуске авторской программы «БесогонТВ...   \n",
       "1  В новом выпуске авторской программы «БесогонТВ...   \n",
       "\n",
       "                                                tags         publishedAt  \\\n",
       "0  [Михалков, Никита Михалков, Бесогон, БесогонТВ... 2023-02-10 09:20:00   \n",
       "1  [Михалков, Никита Михалков, анонс нового выпус... 2023-02-08 07:30:06   \n",
       "\n",
       "   viewCount  likeCount  commentCount  duration  \n",
       "0     810463     117970         20808    3780.0  \n",
       "1     316781      30427          3844      36.0  "
      ]
     },
     "execution_count": 12,
     "metadata": {},
     "output_type": "execute_result"
    }
   ],
   "source": [
    "video_df.head(2)"
   ]
  },
  {
   "attachments": {},
   "cell_type": "markdown",
   "metadata": {},
   "source": [
    "It's necessary to remove brackets in coluumn \"tags\" and it'll be usefull to add column \"pushblishDayName\" with the weekday when a video was published."
   ]
  },
  {
   "cell_type": "code",
   "execution_count": 13,
   "metadata": {},
   "outputs": [],
   "source": [
    "video_df['pushblishDayName'] = video_df['publishedAt'].apply(lambda x: x.strftime(\"%A\"))  # adding weekdays\n",
    "\n",
    "video_df['tags'] = video_df['tags'].apply(lambda x: str(x).lstrip(\"[\").rstrip(\"]\").replace(\"'\", \"\")) # making some changes to tags column"
   ]
  },
  {
   "attachments": {},
   "cell_type": "markdown",
   "metadata": {},
   "source": [
    "Creating additional table\n",
    "\n",
    "One more thing which needed to be done is to create a separate table with row for each tag."
   ]
  },
  {
   "cell_type": "code",
   "execution_count": 14,
   "metadata": {},
   "outputs": [],
   "source": [
    "tag_df = pd.DataFrame(columns=['video_id', 'tag'])\n",
    "for i, row in video_df.iterrows():\n",
    "    if row['tags'] is not None:\n",
    "        tag_l = row['tags'].split(', ')\n",
    "        for tag in tag_l:\n",
    "            if tag is not None and tag != 'None':  # actually I don't know why, but is not None remove only part of all None tags\n",
    "                tmp_df = pd.DataFrame({'video_id': [row['video_id']], 'tag': [tag.lower()]})\n",
    "                tag_df = pd.concat([tag_df, tmp_df], ignore_index = True)"
   ]
  },
  {
   "attachments": {},
   "cell_type": "markdown",
   "metadata": {},
   "source": [
    "<h3>Saving data in database</h3>\n",
    "\n",
    "All tables will be saved in database before analysis."
   ]
  },
  {
   "cell_type": "code",
   "execution_count": 15,
   "metadata": {},
   "outputs": [],
   "source": [
    "# create db and connection\n",
    "db_name = 'youtube_ch.db'\n",
    "conn = sq.connect(db_name)\n",
    "cursor_name = conn.cursor()\n",
    "\n",
    "# create and insert channel_info table\n",
    "table_name = 'channels'\n",
    "cursor_name.execute(f'''CREATE TABLE IF NOT EXISTS {table_name}(\n",
    "    channelId VARCHAR(50) PRIMARY KEY,\n",
    "    channelName VARCHAR(50) NOT NULL,\n",
    "    customURL VARCHAR(50),\n",
    "    channelDescribtion VARCHAR(150),\n",
    "    subscribers INT,\n",
    "    views INT,\n",
    "    totalVideos INT,\n",
    "    playlistId VARCHAR(150),\n",
    "    topicCategories TEXT,\n",
    "    type VARCHAR(30)\n",
    "    );''')\n",
    "channel_info.to_sql(table_name,conn,if_exists='append', dtype={\n",
    "    'channelId': 'VARCHAR(50)',\n",
    "    'channelName': 'VARCHAR(50)',\n",
    "    'customURL': 'VARCHAR(50)',\n",
    "    'channelDescribtion': 'VARCHAR(150)',\n",
    "    'subscribers': 'INT',\n",
    "    'views': 'INT',\n",
    "    'totalVideos': 'INT',\n",
    "    'playlistId': 'VARCHAR(150)',\n",
    "    'topicCategories': 'TEXT',\n",
    "    'type': 'VARCHAR(30)'},index=False)\n",
    "conn.commit()\n",
    "\n",
    "# create and insert video_df table\n",
    "table_name = 'videos'\n",
    "cursor_name.execute(f'''CREATE TABLE IF NOT EXISTS {table_name}(\n",
    "    video_id VARCHAR(50) PRIMARY KEY,\n",
    "    channelId VARCHAR(50),\n",
    "    title VARCHAR(300) NOT NULL,\n",
    "    description TEXT,\n",
    "    tags TEXT,\n",
    "    publishedAt DATETIME,\n",
    "    viewCount INT,\n",
    "    likeCount INT,\n",
    "    commentCount INT,\n",
    "    duration INT,\n",
    "    pushblishDayName VARCHAR(50),\n",
    "    FOREIGN KEY(channelId) REFERENCES channels(channelId)\n",
    "    );''')\n",
    "video_df.to_sql(table_name,conn,if_exists='append', dtype={\n",
    "    'video_id': 'VARCHAR(50)',\n",
    "    'channelId': 'VARCHAR(50)',\n",
    "    'title': 'VARCHAR(300)',\n",
    "    'description': 'TEXT',\n",
    "    'tags': 'TEXT',\n",
    "    'publishedAt': 'DATETIME',\n",
    "    'viewCount': 'INT',\n",
    "    'likeCount': 'INT',\n",
    "    'commentCount': 'INT',\n",
    "    'duration': 'INT',\n",
    "    'pushblishDayName': 'VARCHAR(50)'},index=False)\n",
    "conn.commit()\n",
    "\n",
    "# create and insert tags table\n",
    "table_name = 'tags'\n",
    "cursor_name.execute(f'''CREATE TABLE IF NOT EXISTS {table_name}(\n",
    "    video_id VARCHAR(50),\n",
    "    tag VARCHAR(100),\n",
    "    FOREIGN KEY(video_id) REFERENCES videos(video_id)\n",
    "    ON DELETE CASCADE\n",
    "    );''')\n",
    "tag_df.to_sql(table_name,conn,if_exists='append', dtype={\n",
    "    'video_id': 'VARCHAR(50)',\n",
    "    'tag': 'VARCHAR(100)'},index=False)\n",
    "conn.commit()\n",
    "\n",
    "conn.close()"
   ]
  },
  {
   "attachments": {},
   "cell_type": "markdown",
   "metadata": {},
   "source": [
    "<h3>Analyzing the data</h3>\n",
    "\n",
    "For analyzing and visualization data the Panel library will be used. It allows to create widgets and dynamic charts.\n",
    "To achieve abomentioned goals next plots will be made:\n",
    "1. Bar chart to analyse current channel's features, such as quantity of subscriders, videos and views;\n",
    "2. Wordcloud with most popular tags for choosen period\n",
    "3. "
   ]
  },
  {
   "cell_type": "code",
   "execution_count": 16,
   "metadata": {},
   "outputs": [],
   "source": [
    "# this should be run if data already is stored in db and there is no reasons to collect it again from YouTube\n",
    "try:\n",
    "    channel_info.shape()\n",
    "    video_df.shape()\n",
    "    tag_df.shape\n",
    "except:\n",
    "    db_name = 'youtube_ch.db'\n",
    "    conn = sq.connect(db_name)\n",
    "    channel_info = pd.read_sql('select * from channels', conn)\n",
    "    video_df = pd.read_sql('''select v.video_id, v.channelId, v.title, v.description, v.tags, v.publishedAt, v.viewCount, \n",
    "v.likeCount, v.commentCount, v.duration, v.pushblishDayName, channelName from videos as v\n",
    "JOIN channels as c ON v.channelId= c.channelId''', conn)\n",
    "    tag_df = pd.read_sql('select * from tags', conn)\n",
    "    tag_df = pd.read_sql(f'''select t.video_id, tag, publishedAt, channelName from tags as t\n",
    "JOIN videos as v ON v.video_id = t.video_id\n",
    "JOIN channels as c ON v.channelId= c.channelId''', conn)\n",
    "    conn.close\n",
    "    video_df['publishedAt'] = pd.to_datetime(video_df['publishedAt'])\n",
    "    video_df['year'] = video_df['publishedAt'].dt.year\n",
    "    video_df['likable'] = video_df['likeCount']/video_df['viewCount']\n",
    "    tag_df['publishedAt'] = pd.to_datetime(tag_df['publishedAt'])\n",
    "    tag_df['year'] = tag_df['publishedAt'].dt.year"
   ]
  },
  {
   "cell_type": "code",
   "execution_count": 17,
   "metadata": {},
   "outputs": [],
   "source": [
    "# creating color map\n",
    "colors = {\n",
    "    'varlamov': '#1f77b4',\n",
    "    'БесогонTV': '#ad2134',\n",
    "    'Екатерина Шульман': '#a550a6',\n",
    "    'Максим Кац': '#381c52'\n",
    "}\n",
    "def u_color(channels, colors=colors):\n",
    "    result = []\n",
    "    for i in channels:\n",
    "        result.append(colors[i])\n",
    "    return result\n",
    "# creating widgets\n",
    "# widget for choosing channels\n",
    "w_choose_channel = pn.widgets.CheckButtonGroup(name='Channels', value=list(channel_info['channelName']), \n",
    "    options=list(channel_info['channelName']),orientation='vertical', button_type='primary')\n",
    "\n",
    "# widget for choosing channel's fetures\n",
    "w_channel_feat = pn.widgets.RadioButtonGroup(name='features', options=['subscribers', 'views', 'totalVideos'], \n",
    "    button_type='primary')\n",
    "\n",
    "# widget for choosing year\n",
    "w_year = pn.widgets.IntSlider(name='year', start=video_df['year'].min(), end=video_df['year'].max(), \\\n",
    "    value=2015, value_throttled=2015)\n",
    "w_year.width=250\n",
    "\n",
    "w_yearrange = pn.widgets.DateRangeSlider(name='Date range', start=video_df['publishedAt'].min(), \\\n",
    "    end=video_df['publishedAt'].max())\n",
    "\n",
    "# widget for choosing video's features\n",
    "w_video_feat = pn.widgets.Select(name='video features', options=['viewCount', 'likeCount', 'commentCount', \\\n",
    "    'likable', 'duration'], value='viewCount')"
   ]
  },
  {
   "cell_type": "markdown",
   "metadata": {},
   "source": [
    "Current information about channels\n",
    "\n",
    "Let's compare current channels main features using a bar chart."
   ]
  },
  {
   "cell_type": "code",
   "execution_count": 18,
   "metadata": {},
   "outputs": [
    {
     "data": {
      "application/vnd.jupyter.widget-view+json": {
       "model_id": "e367ed7445044704aca642eedef2acbe",
       "version_major": 2,
       "version_minor": 0
      },
      "text/plain": [
       "BokehModel(combine_events=True, render_bundle={'docs_json': {'ab65244d-59bb-4f91-9fd3-b03e590eac75': {'defs': …"
      ]
     },
     "metadata": {},
     "output_type": "display_data"
    },
    {
     "data": {
      "text/html": [
       "<div style=\"display: none\"></div>"
      ],
      "text/plain": [
       "Column\n",
       "    [0] CheckButtonGroup(button_type='primary', name='Channels', options=['БесогонTV', ...], orientation='vertical', value=['БесогонTV', ...])\n",
       "    [1] RadioButtonGroup(button_type='primary', name='features', options=['subscribers', ...], value='subscribers')\n",
       "    [2] ParamFunction(function, _pane=HoloViews)"
      ]
     },
     "execution_count": 18,
     "metadata": {},
     "output_type": "execute_result"
    }
   ],
   "source": [
    "@pn.depends(w_choose_channel.param.value)\n",
    "@pn.depends(w_channel_feat.param.value)\n",
    "def ch_info_plt(channels, feat):\n",
    "    ch_plot = channel_info[channel_info['channelName'].isin(channels)].sort_values(by=feat, \\\n",
    "        ascending=False).hvplot.bar(x='channelName', y=feat, c='channelName', cmap=colors,\\\n",
    "            xlabel='', width=700, title=\"Current channel's information\", height=280)\n",
    "    return ch_plot\n",
    "\n",
    "# c='channelName', cmap=colors,\n",
    "#.sort_values(by=feat, ascending=False).\\\n",
    "ch_barplot = pn.bind(ch_info_plt, w_choose_channel, w_channel_feat)\n",
    "pn.Column(w_choose_channel, w_channel_feat, ch_barplot)"
   ]
  },
  {
   "attachments": {},
   "cell_type": "markdown",
   "metadata": {},
   "source": [
    "Chanel dependencies"
   ]
  },
  {
   "cell_type": "code",
   "execution_count": null,
   "metadata": {},
   "outputs": [
    {
     "data": {
      "application/vnd.jupyter.widget-view+json": {
       "model_id": "836277505b9d465594c21af331a3f669",
       "version_major": 2,
       "version_minor": 0
      },
      "text/plain": [
       "BokehModel(combine_events=True, render_bundle={'docs_json': {'e23a83e6-8140-47f0-ad47-e11857f19b84': {'defs': …"
      ]
     },
     "metadata": {},
     "output_type": "display_data"
    },
    {
     "data": {
      "text/html": [
       "<div style=\"display: none\"></div>"
      ],
      "text/plain": [
       "Column\n",
       "    [0] IntSlider(end=2023, name='year', start=2009, value=2015, width=250)\n",
       "    [1] ParamFunction(function, _pane=HoloViews)"
      ]
     },
     "execution_count": 19,
     "metadata": {},
     "output_type": "execute_result"
    },
    {
     "name": "stderr",
     "output_type": "stream",
     "text": [
      "WARNING:bokeh.core.validation.check:W-1005 (FIXED_SIZING_MODE): 'fixed' sizing mode requires width and height to be set: Row(id='8520', ...)\n",
      "WARNING:bokeh.core.validation.check:W-1005 (FIXED_SIZING_MODE): 'fixed' sizing mode requires width and height to be set: Row(id='8598', ...)\n",
      "WARNING:bokeh.core.validation.check:W-1005 (FIXED_SIZING_MODE): 'fixed' sizing mode requires width and height to be set: Row(id='8662', ...)\n"
     ]
    }
   ],
   "source": [
    "@pn.depends(w_year.param.value_throttled)\n",
    "def vid_scatter(year):\n",
    "    vid_vl_scatt = video_df[video_df['year'] == year].hvplot.scatter(x='likeCount', y='viewCount', \\\n",
    "        by='channelName', alpha=0.7, width=350, legend=False, c=video_df['channelName'], cmap=colors)\n",
    "    vid_vc_scatt = video_df[video_df['year'] == year].hvplot.scatter(x='commentCount', y='viewCount', \\\n",
    "        by='channelName', alpha=0.70, width=350, legend=False, c=video_df['channelName'], cmap=colors)\n",
    "    vid_scatt_p = vid_vl_scatt + vid_vc_scatt\n",
    "    return vid_scatt_p\n",
    "\n",
    "vid_scatt = pn.bind(vid_scatter, w_year)\n",
    "pn.Column(w_year, vid_scatt)"
   ]
  },
  {
   "attachments": {},
   "cell_type": "markdown",
   "metadata": {},
   "source": [
    "Most popular video\n",
    "\n",
    "Let's check the best videos within a given perion by choosen criteria."
   ]
  },
  {
   "cell_type": "code",
   "execution_count": 20,
   "metadata": {},
   "outputs": [
    {
     "data": {
      "application/vnd.jupyter.widget-view+json": {
       "model_id": "f284d7d3f2b945519fcfecacf14ada28",
       "version_major": 2,
       "version_minor": 0
      },
      "text/plain": [
       "BokehModel(combine_events=True, render_bundle={'docs_json': {'503cc147-8a90-45f2-94bc-a8708c802e60': {'defs': …"
      ]
     },
     "metadata": {},
     "output_type": "display_data"
    },
    {
     "data": {
      "text/html": [
       "<div style=\"display: none\"></div>"
      ],
      "text/plain": [
       "Column\n",
       "    [0] CheckButtonGroup(button_type='primary', name='Channels', options=['БесогонTV', ...], orientation='vertical', value=['БесогонTV', ...])\n",
       "    [1] Select(name='video features', options=['viewCount', ...], value='viewCount')\n",
       "    [2] DateRangeSlider(end=Timestamp('2023-02-15 1..., name='Date range', start=Timestamp('2009-03-18 2..., value=(Timestamp('2009-03-18 21:..., value_end=Timestamp('2023-02-15 1..., value_start=Timestamp('2009-03-18 2...)\n",
       "    [3] ParamFunction(function, _pane=HoloViews)"
      ]
     },
     "execution_count": 20,
     "metadata": {},
     "output_type": "execute_result"
    }
   ],
   "source": [
    "@pn.depends(w_yearrange.param.value)\n",
    "@pn.depends(w_choose_channel.param.value)\n",
    "@pn.depends(w_video_feat.param.value)\n",
    "def vid_barsr(yearr, channels, feat):\n",
    "    vid_bch = video_df[(video_df['publishedAt']>=yearr[0])&(video_df['publishedAt']<=yearr[1])&\\\n",
    "        (video_df['channelName'].isin(channels))].sort_values(by=feat, ascending=False)[0:15].\\\n",
    "            sort_values(by=feat).hvplot.barh('title', feat, yaxis = None, c=video_df['channelName'], \\\n",
    "                cmap=colors, legend=False, height=260, width=320)\n",
    "    return vid_bch\n",
    "\n",
    "vid_barchrtr = pn.bind(vid_barsr, w_yearrange, w_choose_channel, w_video_feat)\n",
    "pn.Column(w_choose_channel, w_video_feat, w_yearrange, vid_barchrtr)"
   ]
  },
  {
   "attachments": {},
   "cell_type": "markdown",
   "metadata": {},
   "source": [
    "Number of videos by year"
   ]
  },
  {
   "cell_type": "code",
   "execution_count": 23,
   "metadata": {},
   "outputs": [
    {
     "data": {
      "application/vnd.holoviews_exec.v0+json": "",
      "text/html": [
       "<div id='3801'>\n",
       "  <div class=\"bk-root\" id=\"1bfae806-8cb8-4a15-90a2-d3ae924ac829\" data-root-id=\"3801\"></div>\n",
       "</div>\n",
       "<script type=\"application/javascript\">(function(root) {\n",
       "  function embed_document(root) {\n",
       "    var docs_json = {\"70f15ceb-f004-445d-a7b2-69f0ba971cde\":{\"defs\":[{\"extends\":null,\"module\":null,\"name\":\"ReactiveHTML1\",\"overrides\":[],\"properties\":[]},{\"extends\":null,\"module\":null,\"name\":\"FlexBox1\",\"overrides\":[],\"properties\":[{\"default\":\"flex-start\",\"kind\":null,\"name\":\"align_content\"},{\"default\":\"flex-start\",\"kind\":null,\"name\":\"align_items\"},{\"default\":\"row\",\"kind\":null,\"name\":\"flex_direction\"},{\"default\":\"wrap\",\"kind\":null,\"name\":\"flex_wrap\"},{\"default\":\"flex-start\",\"kind\":null,\"name\":\"justify_content\"}]},{\"extends\":null,\"module\":null,\"name\":\"GridStack1\",\"overrides\":[],\"properties\":[{\"default\":\"warn\",\"kind\":null,\"name\":\"mode\"},{\"default\":null,\"kind\":null,\"name\":\"ncols\"},{\"default\":null,\"kind\":null,\"name\":\"nrows\"},{\"default\":true,\"kind\":null,\"name\":\"allow_resize\"},{\"default\":true,\"kind\":null,\"name\":\"allow_drag\"},{\"default\":[],\"kind\":null,\"name\":\"state\"}]},{\"extends\":null,\"module\":null,\"name\":\"click1\",\"overrides\":[],\"properties\":[{\"default\":\"\",\"kind\":null,\"name\":\"terminal_output\"},{\"default\":\"\",\"kind\":null,\"name\":\"debug_name\"},{\"default\":0,\"kind\":null,\"name\":\"clears\"}]},{\"extends\":null,\"module\":null,\"name\":\"NotificationAreaBase1\",\"overrides\":[],\"properties\":[{\"default\":\"bottom-right\",\"kind\":null,\"name\":\"position\"},{\"default\":0,\"kind\":null,\"name\":\"_clear\"}]},{\"extends\":null,\"module\":null,\"name\":\"NotificationArea1\",\"overrides\":[],\"properties\":[{\"default\":[],\"kind\":null,\"name\":\"notifications\"},{\"default\":\"bottom-right\",\"kind\":null,\"name\":\"position\"},{\"default\":0,\"kind\":null,\"name\":\"_clear\"},{\"default\":[{\"background\":\"#ffc107\",\"icon\":{\"className\":\"fas fa-exclamation-triangle\",\"color\":\"white\",\"tagName\":\"i\"},\"type\":\"warning\"},{\"background\":\"#007bff\",\"icon\":{\"className\":\"fas fa-info-circle\",\"color\":\"white\",\"tagName\":\"i\"},\"type\":\"info\"}],\"kind\":null,\"name\":\"types\"}]},{\"extends\":null,\"module\":null,\"name\":\"Notification\",\"overrides\":[],\"properties\":[{\"default\":null,\"kind\":null,\"name\":\"background\"},{\"default\":3000,\"kind\":null,\"name\":\"duration\"},{\"default\":null,\"kind\":null,\"name\":\"icon\"},{\"default\":\"\",\"kind\":null,\"name\":\"message\"},{\"default\":null,\"kind\":null,\"name\":\"notification_type\"},{\"default\":false,\"kind\":null,\"name\":\"_destroyed\"}]},{\"extends\":null,\"module\":null,\"name\":\"TemplateActions1\",\"overrides\":[],\"properties\":[{\"default\":0,\"kind\":null,\"name\":\"open_modal\"},{\"default\":0,\"kind\":null,\"name\":\"close_modal\"}]},{\"extends\":null,\"module\":null,\"name\":\"MaterialTemplateActions1\",\"overrides\":[],\"properties\":[{\"default\":0,\"kind\":null,\"name\":\"open_modal\"},{\"default\":0,\"kind\":null,\"name\":\"close_modal\"}]}],\"roots\":{\"references\":[{\"attributes\":{\"line_alpha\":0.2,\"line_color\":\"#30a2da\",\"line_width\":2,\"x\":{\"field\":\"year\"},\"y\":{\"field\":\"counts\"}},\"id\":\"3849\",\"type\":\"Line\"},{\"attributes\":{\"coordinates\":null,\"data_source\":{\"id\":\"3844\"},\"glyph\":{\"id\":\"3847\"},\"group\":null,\"hover_glyph\":null,\"muted_glyph\":{\"id\":\"3849\"},\"nonselection_glyph\":{\"id\":\"3848\"},\"selection_glyph\":{\"id\":\"3864\"},\"view\":{\"id\":\"3851\"}},\"id\":\"3850\",\"type\":\"GlyphRenderer\"},{\"attributes\":{\"source\":{\"id\":\"3844\"}},\"id\":\"3851\",\"type\":\"CDSView\"},{\"attributes\":{\"callback\":null,\"renderers\":[{\"id\":\"3850\"},{\"id\":\"3871\"},{\"id\":\"3893\"},{\"id\":\"3917\"}],\"tags\":[\"hv_created\"],\"tooltips\":[[\"channelName\",\"@{channelName}\"],[\"year\",\"@{year}\"],[\"counts\",\"@{counts}\"]]},\"id\":\"3804\",\"type\":\"HoverTool\"},{\"attributes\":{\"line_alpha\":0.2,\"line_color\":\"#fc4f30\",\"line_width\":2,\"x\":{\"field\":\"year\"},\"y\":{\"field\":\"counts\"}},\"id\":\"3870\",\"type\":\"Line\"},{\"attributes\":{\"click_policy\":\"mute\",\"coordinates\":null,\"group\":null,\"items\":[{\"id\":\"3863\"},{\"id\":\"3885\"},{\"id\":\"3909\"},{\"id\":\"3935\"}],\"location\":[0,0],\"title\":\"channelName\"},\"id\":\"3862\",\"type\":\"Legend\"},{\"attributes\":{\"line_alpha\":0.1,\"line_color\":\"#fc4f30\",\"line_width\":2,\"x\":{\"field\":\"year\"},\"y\":{\"field\":\"counts\"}},\"id\":\"3869\",\"type\":\"Line\"},{\"attributes\":{\"line_color\":\"#30a2da\",\"line_width\":2,\"x\":{\"field\":\"year\"},\"y\":{\"field\":\"counts\"}},\"id\":\"3864\",\"type\":\"Line\"},{\"attributes\":{\"label\":{\"value\":\"varlamov\"},\"renderers\":[{\"id\":\"3850\"}]},\"id\":\"3863\",\"type\":\"LegendItem\"},{\"attributes\":{\"source\":{\"id\":\"3865\"}},\"id\":\"3872\",\"type\":\"CDSView\"},{\"attributes\":{\"coordinates\":null,\"group\":null,\"text_color\":\"black\",\"text_font_size\":\"12pt\"},\"id\":\"3809\",\"type\":\"Title\"},{\"attributes\":{},\"id\":\"3818\",\"type\":\"BasicTicker\"},{\"attributes\":{},\"id\":\"3813\",\"type\":\"LinearScale\"},{\"attributes\":{},\"id\":\"3882\",\"type\":\"UnionRenderers\"},{\"attributes\":{\"axis\":{\"id\":\"3817\"},\"coordinates\":null,\"grid_line_color\":null,\"group\":null,\"ticker\":null},\"id\":\"3820\",\"type\":\"Grid\"},{\"attributes\":{\"data\":{\"channelName\":[\"\\u041c\\u0430\\u043a\\u0441\\u0438\\u043c \\u041a\\u0430\\u0446\",\"\\u041c\\u0430\\u043a\\u0441\\u0438\\u043c \\u041a\\u0430\\u0446\",\"\\u041c\\u0430\\u043a\\u0441\\u0438\\u043c \\u041a\\u0430\\u0446\",\"\\u041c\\u0430\\u043a\\u0441\\u0438\\u043c \\u041a\\u0430\\u0446\",\"\\u041c\\u0430\\u043a\\u0441\\u0438\\u043c \\u041a\\u0430\\u0446\",\"\\u041c\\u0430\\u043a\\u0441\\u0438\\u043c \\u041a\\u0430\\u0446\",\"\\u041c\\u0430\\u043a\\u0441\\u0438\\u043c \\u041a\\u0430\\u0446\",\"\\u041c\\u0430\\u043a\\u0441\\u0438\\u043c \\u041a\\u0430\\u0446\",\"\\u041c\\u0430\\u043a\\u0441\\u0438\\u043c \\u041a\\u0430\\u0446\",\"\\u041c\\u0430\\u043a\\u0441\\u0438\\u043c \\u041a\\u0430\\u0446\",\"\\u041c\\u0430\\u043a\\u0441\\u0438\\u043c \\u041a\\u0430\\u0446\"],\"counts\":[1,3,7,5,2,3,1,272,299,347,45],\"year\":[2012,2013,2014,2015,2016,2018,2019,2020,2021,2022,2023]},\"selected\":{\"id\":\"3912\"},\"selection_policy\":{\"id\":\"3932\"}},\"id\":\"3911\",\"type\":\"ColumnDataSource\"},{\"attributes\":{\"axis_label\":\"year\",\"coordinates\":null,\"formatter\":{\"id\":\"3839\"},\"group\":null,\"major_label_policy\":{\"id\":\"3840\"},\"ticker\":{\"id\":\"3818\"}},\"id\":\"3817\",\"type\":\"LinearAxis\"},{\"attributes\":{},\"id\":\"3815\",\"type\":\"LinearScale\"},{\"attributes\":{},\"id\":\"3866\",\"type\":\"Selection\"},{\"attributes\":{\"line_color\":\"#fc4f30\",\"line_width\":2,\"x\":{\"field\":\"year\"},\"y\":{\"field\":\"counts\"}},\"id\":\"3868\",\"type\":\"Line\"},{\"attributes\":{},\"id\":\"3840\",\"type\":\"AllLabels\"},{\"attributes\":{\"line_color\":\"#e5ae38\",\"line_width\":2,\"x\":{\"field\":\"year\"},\"y\":{\"field\":\"counts\"}},\"id\":\"3890\",\"type\":\"Line\"},{\"attributes\":{},\"id\":\"3826\",\"type\":\"PanTool\"},{\"attributes\":{\"children\":[{\"id\":\"3808\"}],\"height\":300,\"margin\":[0,0,0,0],\"name\":\"Row01733\",\"sizing_mode\":\"fixed\",\"tags\":[\"embedded\"],\"width\":700},\"id\":\"3801\",\"type\":\"Row\"},{\"attributes\":{\"coordinates\":null,\"data_source\":{\"id\":\"3865\"},\"glyph\":{\"id\":\"3868\"},\"group\":null,\"hover_glyph\":null,\"muted_glyph\":{\"id\":\"3870\"},\"nonselection_glyph\":{\"id\":\"3869\"},\"selection_glyph\":{\"id\":\"3886\"},\"view\":{\"id\":\"3872\"}},\"id\":\"3871\",\"type\":\"GlyphRenderer\"},{\"attributes\":{\"line_color\":\"#e5ae38\",\"line_width\":2,\"x\":{\"field\":\"year\"},\"y\":{\"field\":\"counts\"}},\"id\":\"3910\",\"type\":\"Line\"},{\"attributes\":{\"axis_label\":\"counts\",\"coordinates\":null,\"formatter\":{\"id\":\"3842\"},\"group\":null,\"major_label_policy\":{\"id\":\"3843\"},\"ticker\":{\"id\":\"3822\"}},\"id\":\"3821\",\"type\":\"LinearAxis\"},{\"attributes\":{\"line_alpha\":0.2,\"line_color\":\"#6d904f\",\"line_width\":2,\"x\":{\"field\":\"year\"},\"y\":{\"field\":\"counts\"}},\"id\":\"3916\",\"type\":\"Line\"},{\"attributes\":{\"label\":{\"value\":\"\\u0411\\u0435\\u0441\\u043e\\u0433\\u043e\\u043dTV\"},\"renderers\":[{\"id\":\"3871\"}]},\"id\":\"3885\",\"type\":\"LegendItem\"},{\"attributes\":{\"axis\":{\"id\":\"3821\"},\"coordinates\":null,\"dimension\":1,\"grid_line_color\":null,\"group\":null,\"ticker\":null},\"id\":\"3824\",\"type\":\"Grid\"},{\"attributes\":{\"line_alpha\":0.2,\"line_color\":\"#e5ae38\",\"line_width\":2,\"x\":{\"field\":\"year\"},\"y\":{\"field\":\"counts\"}},\"id\":\"3892\",\"type\":\"Line\"},{\"attributes\":{},\"id\":\"3822\",\"type\":\"BasicTicker\"},{\"attributes\":{\"line_color\":\"#6d904f\",\"line_width\":2,\"x\":{\"field\":\"year\"},\"y\":{\"field\":\"counts\"}},\"id\":\"3914\",\"type\":\"Line\"},{\"attributes\":{},\"id\":\"3827\",\"type\":\"WheelZoomTool\"},{\"attributes\":{\"source\":{\"id\":\"3911\"}},\"id\":\"3918\",\"type\":\"CDSView\"},{\"attributes\":{},\"id\":\"3825\",\"type\":\"SaveTool\"},{\"attributes\":{\"line_alpha\":0.1,\"line_color\":\"#6d904f\",\"line_width\":2,\"x\":{\"field\":\"year\"},\"y\":{\"field\":\"counts\"}},\"id\":\"3915\",\"type\":\"Line\"},{\"attributes\":{\"overlay\":{\"id\":\"3830\"}},\"id\":\"3828\",\"type\":\"BoxZoomTool\"},{\"attributes\":{},\"id\":\"3829\",\"type\":\"ResetTool\"},{\"attributes\":{\"bottom_units\":\"screen\",\"coordinates\":null,\"fill_alpha\":0.5,\"fill_color\":\"lightgrey\",\"group\":null,\"left_units\":\"screen\",\"level\":\"overlay\",\"line_alpha\":1.0,\"line_color\":\"black\",\"line_dash\":[4,4],\"line_width\":2,\"right_units\":\"screen\",\"syncable\":false,\"top_units\":\"screen\"},\"id\":\"3830\",\"type\":\"BoxAnnotation\"},{\"attributes\":{},\"id\":\"3912\",\"type\":\"Selection\"},{\"attributes\":{},\"id\":\"3859\",\"type\":\"UnionRenderers\"},{\"attributes\":{\"coordinates\":null,\"data_source\":{\"id\":\"3911\"},\"glyph\":{\"id\":\"3914\"},\"group\":null,\"hover_glyph\":null,\"muted_glyph\":{\"id\":\"3916\"},\"nonselection_glyph\":{\"id\":\"3915\"},\"selection_glyph\":{\"id\":\"3936\"},\"view\":{\"id\":\"3918\"}},\"id\":\"3917\",\"type\":\"GlyphRenderer\"},{\"attributes\":{\"label\":{\"value\":\"\\u041c\\u0430\\u043a\\u0441\\u0438\\u043c \\u041a\\u0430\\u0446\"},\"renderers\":[{\"id\":\"3917\"}]},\"id\":\"3935\",\"type\":\"LegendItem\"},{\"attributes\":{\"line_color\":\"#30a2da\",\"line_width\":2,\"x\":{\"field\":\"year\"},\"y\":{\"field\":\"counts\"}},\"id\":\"3847\",\"type\":\"Line\"},{\"attributes\":{},\"id\":\"3932\",\"type\":\"UnionRenderers\"},{\"attributes\":{},\"id\":\"3842\",\"type\":\"BasicTickFormatter\"},{\"attributes\":{\"line_alpha\":0.1,\"line_color\":\"#e5ae38\",\"line_width\":2,\"x\":{\"field\":\"year\"},\"y\":{\"field\":\"counts\"}},\"id\":\"3891\",\"type\":\"Line\"},{\"attributes\":{},\"id\":\"3843\",\"type\":\"AllLabels\"},{\"attributes\":{\"line_color\":\"#fc4f30\",\"line_width\":2,\"x\":{\"field\":\"year\"},\"y\":{\"field\":\"counts\"}},\"id\":\"3886\",\"type\":\"Line\"},{\"attributes\":{\"data\":{\"channelName\":[\"varlamov\",\"varlamov\",\"varlamov\",\"varlamov\",\"varlamov\",\"varlamov\",\"varlamov\",\"varlamov\",\"varlamov\",\"varlamov\",\"varlamov\",\"varlamov\",\"varlamov\",\"varlamov\",\"varlamov\"],\"counts\":[2,3,1,1,5,10,45,28,225,305,342,260,184,188,22],\"year\":[2009,2010,2011,2012,2013,2014,2015,2016,2017,2018,2019,2020,2021,2022,2023]},\"selected\":{\"id\":\"3845\"},\"selection_policy\":{\"id\":\"3859\"}},\"id\":\"3844\",\"type\":\"ColumnDataSource\"},{\"attributes\":{},\"id\":\"3845\",\"type\":\"Selection\"},{\"attributes\":{\"source\":{\"id\":\"3887\"}},\"id\":\"3894\",\"type\":\"CDSView\"},{\"attributes\":{\"active_drag\":{\"id\":\"3826\"},\"active_scroll\":{\"id\":\"3827\"},\"tools\":[{\"id\":\"3804\"},{\"id\":\"3825\"},{\"id\":\"3826\"},{\"id\":\"3827\"},{\"id\":\"3828\"},{\"id\":\"3829\"}]},\"id\":\"3831\",\"type\":\"Toolbar\"},{\"attributes\":{\"line_alpha\":0.1,\"line_color\":\"#30a2da\",\"line_width\":2,\"x\":{\"field\":\"year\"},\"y\":{\"field\":\"counts\"}},\"id\":\"3848\",\"type\":\"Line\"},{\"attributes\":{\"data\":{\"channelName\":[\"\\u0415\\u043a\\u0430\\u0442\\u0435\\u0440\\u0438\\u043d\\u0430 \\u0428\\u0443\\u043b\\u044c\\u043c\\u0430\\u043d\",\"\\u0415\\u043a\\u0430\\u0442\\u0435\\u0440\\u0438\\u043d\\u0430 \\u0428\\u0443\\u043b\\u044c\\u043c\\u0430\\u043d\",\"\\u0415\\u043a\\u0430\\u0442\\u0435\\u0440\\u0438\\u043d\\u0430 \\u0428\\u0443\\u043b\\u044c\\u043c\\u0430\\u043d\",\"\\u0415\\u043a\\u0430\\u0442\\u0435\\u0440\\u0438\\u043d\\u0430 \\u0428\\u0443\\u043b\\u044c\\u043c\\u0430\\u043d\",\"\\u0415\\u043a\\u0430\\u0442\\u0435\\u0440\\u0438\\u043d\\u0430 \\u0428\\u0443\\u043b\\u044c\\u043c\\u0430\\u043d\",\"\\u0415\\u043a\\u0430\\u0442\\u0435\\u0440\\u0438\\u043d\\u0430 \\u0428\\u0443\\u043b\\u044c\\u043c\\u0430\\u043d\",\"\\u0415\\u043a\\u0430\\u0442\\u0435\\u0440\\u0438\\u043d\\u0430 \\u0428\\u0443\\u043b\\u044c\\u043c\\u0430\\u043d\",\"\\u0415\\u043a\\u0430\\u0442\\u0435\\u0440\\u0438\\u043d\\u0430 \\u0428\\u0443\\u043b\\u044c\\u043c\\u0430\\u043d\"],\"counts\":[18,143,125,159,175,153,111,17],\"year\":[2016,2017,2018,2019,2020,2021,2022,2023]},\"selected\":{\"id\":\"3888\"},\"selection_policy\":{\"id\":\"3906\"}},\"id\":\"3887\",\"type\":\"ColumnDataSource\"},{\"attributes\":{},\"id\":\"3888\",\"type\":\"Selection\"},{\"attributes\":{\"data\":{\"channelName\":[\"\\u0411\\u0435\\u0441\\u043e\\u0433\\u043e\\u043dTV\",\"\\u0411\\u0435\\u0441\\u043e\\u0433\\u043e\\u043dTV\",\"\\u0411\\u0435\\u0441\\u043e\\u0433\\u043e\\u043dTV\",\"\\u0411\\u0435\\u0441\\u043e\\u0433\\u043e\\u043dTV\",\"\\u0411\\u0435\\u0441\\u043e\\u0433\\u043e\\u043dTV\",\"\\u0411\\u0435\\u0441\\u043e\\u0433\\u043e\\u043dTV\",\"\\u0411\\u0435\\u0441\\u043e\\u0433\\u043e\\u043dTV\",\"\\u0411\\u0435\\u0441\\u043e\\u0433\\u043e\\u043dTV\",\"\\u0411\\u0435\\u0441\\u043e\\u0433\\u043e\\u043dTV\",\"\\u0411\\u0435\\u0441\\u043e\\u0433\\u043e\\u043dTV\",\"\\u0411\\u0435\\u0441\\u043e\\u0433\\u043e\\u043dTV\",\"\\u0411\\u0435\\u0441\\u043e\\u0433\\u043e\\u043dTV\",\"\\u0411\\u0435\\u0441\\u043e\\u0433\\u043e\\u043dTV\"],\"counts\":[47,27,16,20,14,11,11,11,8,26,24,35,2],\"year\":[2011,2012,2013,2014,2015,2016,2017,2018,2019,2020,2021,2022,2023]},\"selected\":{\"id\":\"3866\"},\"selection_policy\":{\"id\":\"3882\"}},\"id\":\"3865\",\"type\":\"ColumnDataSource\"},{\"attributes\":{\"coordinates\":null,\"data_source\":{\"id\":\"3887\"},\"glyph\":{\"id\":\"3890\"},\"group\":null,\"hover_glyph\":null,\"muted_glyph\":{\"id\":\"3892\"},\"nonselection_glyph\":{\"id\":\"3891\"},\"selection_glyph\":{\"id\":\"3910\"},\"view\":{\"id\":\"3894\"}},\"id\":\"3893\",\"type\":\"GlyphRenderer\"},{\"attributes\":{\"line_color\":\"#6d904f\",\"line_width\":2,\"x\":{\"field\":\"year\"},\"y\":{\"field\":\"counts\"}},\"id\":\"3936\",\"type\":\"Line\"},{\"attributes\":{\"label\":{\"value\":\"\\u0415\\u043a\\u0430\\u0442\\u0435\\u0440\\u0438\\u043d\\u0430 \\u0428\\u0443\\u043b\\u044c\\u043c\\u0430\\u043d\"},\"renderers\":[{\"id\":\"3893\"}]},\"id\":\"3909\",\"type\":\"LegendItem\"},{\"attributes\":{\"end\":381.6,\"reset_end\":381.6,\"reset_start\":-33.6,\"start\":-33.6,\"tags\":[[[\"counts\",\"counts\",null]]]},\"id\":\"3803\",\"type\":\"Range1d\"},{\"attributes\":{\"end\":2023.0,\"reset_end\":2023.0,\"reset_start\":2009.0,\"start\":2009.0,\"tags\":[[[\"year\",\"year\",null]]]},\"id\":\"3802\",\"type\":\"Range1d\"},{\"attributes\":{},\"id\":\"3906\",\"type\":\"UnionRenderers\"},{\"attributes\":{},\"id\":\"3839\",\"type\":\"BasicTickFormatter\"},{\"attributes\":{\"below\":[{\"id\":\"3817\"}],\"center\":[{\"id\":\"3820\"},{\"id\":\"3824\"}],\"height\":300,\"left\":[{\"id\":\"3821\"}],\"margin\":[5,5,5,5],\"min_border_bottom\":10,\"min_border_left\":10,\"min_border_right\":10,\"min_border_top\":10,\"renderers\":[{\"id\":\"3850\"},{\"id\":\"3871\"},{\"id\":\"3893\"},{\"id\":\"3917\"}],\"right\":[{\"id\":\"3862\"}],\"sizing_mode\":\"fixed\",\"title\":{\"id\":\"3809\"},\"toolbar\":{\"id\":\"3831\"},\"width\":700,\"x_range\":{\"id\":\"3802\"},\"x_scale\":{\"id\":\"3813\"},\"y_range\":{\"id\":\"3803\"},\"y_scale\":{\"id\":\"3815\"}},\"id\":\"3808\",\"subtype\":\"Figure\",\"type\":\"Plot\"}],\"root_ids\":[\"3801\"]},\"title\":\"Bokeh Application\",\"version\":\"2.4.3\"}};\n",
       "    var render_items = [{\"docid\":\"70f15ceb-f004-445d-a7b2-69f0ba971cde\",\"root_ids\":[\"3801\"],\"roots\":{\"3801\":\"1bfae806-8cb8-4a15-90a2-d3ae924ac829\"}}];\n",
       "    root.Bokeh.embed.embed_items_notebook(docs_json, render_items);\n",
       "    for (const render_item of render_items) {\n",
       "      for (const root_id of render_item.root_ids) {\n",
       "\tconst id_el = document.getElementById(root_id)\n",
       "\tif (id_el.children.length && (id_el.children[0].className === 'bk-root')) {\n",
       "\t  const root_el = id_el.children[0]\n",
       "\t  root_el.id = root_el.id + '-rendered'\n",
       "\t}\n",
       "      }\n",
       "    }\n",
       "  }\n",
       "  if (root.Bokeh !== undefined && root.Bokeh.Panel !== undefined) {\n",
       "    embed_document(root);\n",
       "  } else {\n",
       "    var attempts = 0;\n",
       "    var timer = setInterval(function(root) {\n",
       "      if (root.Bokeh !== undefined && root.Bokeh.Panel !== undefined) {\n",
       "        clearInterval(timer);\n",
       "        embed_document(root);\n",
       "      } else if (document.readyState == \"complete\") {\n",
       "        attempts++;\n",
       "        if (attempts > 200) {\n",
       "          clearInterval(timer);\n",
       "          console.log(\"Bokeh: ERROR: Unable to run BokehJS code because BokehJS library is missing\");\n",
       "        }\n",
       "      }\n",
       "    }, 25, root)\n",
       "  }\n",
       "})(window);</script>"
      ],
      "text/plain": [
       ":NdOverlay   [channelName]\n",
       "   :Curve   [year]   (counts)"
      ]
     },
     "execution_count": 23,
     "metadata": {
      "application/vnd.holoviews_exec.v0+json": {
       "id": "3801"
      }
     },
     "output_type": "execute_result"
    }
   ],
   "source": [
    "vid_quant_df = pd.DataFrame(video_df[['channelName', 'year']].groupby('year').value_counts())\n",
    "new_df = vid_quant_df.reset_index()\n",
    "new_df.columns = ['year', 'channelName', 'counts']\n",
    "\n",
    "new_df.hvplot.line(x='year', y='counts', by='channelName')"
   ]
  },
  {
   "attachments": {},
   "cell_type": "markdown",
   "metadata": {},
   "source": [
    "Change in average values ​​of video's indicators by years"
   ]
  },
  {
   "cell_type": "code",
   "execution_count": 24,
   "metadata": {},
   "outputs": [
    {
     "data": {
      "application/vnd.jupyter.widget-view+json": {
       "model_id": "9765cc51a7cb463ea5fd70c484448b11",
       "version_major": 2,
       "version_minor": 0
      },
      "text/plain": [
       "BokehModel(combine_events=True, render_bundle={'docs_json': {'2d5151f5-d3d8-4bc5-917f-159ad026a734': {'defs': …"
      ]
     },
     "metadata": {},
     "output_type": "display_data"
    },
    {
     "data": {
      "text/html": [
       "<div style=\"display: none\"></div>"
      ],
      "text/plain": [
       "Column\n",
       "    [0] CheckButtonGroup(button_type='primary', name='Channels', options=['БесогонTV', ...], orientation='vertical', value=['БесогонTV', ...])\n",
       "    [1] Select(name='video features', options=['viewCount', ...], value='viewCount')\n",
       "    [2] ParamFunction(function, _pane=HoloViews)"
      ]
     },
     "execution_count": 24,
     "metadata": {},
     "output_type": "execute_result"
    }
   ],
   "source": [
    "@pn.depends(w_choose_channel.param.value)\n",
    "@pn.depends(w_video_feat.param.value)\n",
    "def vid_lines(channels, feat):\n",
    "    vid_linech = video_df[video_df['channelName'].isin(channels)][['channelName', 'year', feat]].\\\n",
    "        groupby(['year', 'channelName']).mean(feat).hvplot.line(by='channelName', legend=False, height=260, \\\n",
    "            color=u_color(channels), width=380)\n",
    "    return vid_linech\n",
    "\n",
    "vid_linechrt = pn.bind(vid_lines, w_choose_channel, w_video_feat)\n",
    "pn.Column(w_choose_channel, w_video_feat,  vid_linechrt)"
   ]
  },
  {
   "cell_type": "code",
   "execution_count": 26,
   "metadata": {},
   "outputs": [
    {
     "data": {
      "application/vnd.holoviews_exec.v0+json": "",
      "text/html": [
       "<div id='5614'>\n",
       "  <div class=\"bk-root\" id=\"4de969b8-90a2-475b-ab09-32cdfb08e197\" data-root-id=\"5614\"></div>\n",
       "</div>\n",
       "<script type=\"application/javascript\">(function(root) {\n",
       "  function embed_document(root) {\n",
       "    var docs_json = {\"afbf8f84-49a0-405e-ad7d-9718a783c493\":{\"defs\":[{\"extends\":null,\"module\":null,\"name\":\"ReactiveHTML1\",\"overrides\":[],\"properties\":[]},{\"extends\":null,\"module\":null,\"name\":\"FlexBox1\",\"overrides\":[],\"properties\":[{\"default\":\"flex-start\",\"kind\":null,\"name\":\"align_content\"},{\"default\":\"flex-start\",\"kind\":null,\"name\":\"align_items\"},{\"default\":\"row\",\"kind\":null,\"name\":\"flex_direction\"},{\"default\":\"wrap\",\"kind\":null,\"name\":\"flex_wrap\"},{\"default\":\"flex-start\",\"kind\":null,\"name\":\"justify_content\"}]},{\"extends\":null,\"module\":null,\"name\":\"GridStack1\",\"overrides\":[],\"properties\":[{\"default\":\"warn\",\"kind\":null,\"name\":\"mode\"},{\"default\":null,\"kind\":null,\"name\":\"ncols\"},{\"default\":null,\"kind\":null,\"name\":\"nrows\"},{\"default\":true,\"kind\":null,\"name\":\"allow_resize\"},{\"default\":true,\"kind\":null,\"name\":\"allow_drag\"},{\"default\":[],\"kind\":null,\"name\":\"state\"}]},{\"extends\":null,\"module\":null,\"name\":\"click1\",\"overrides\":[],\"properties\":[{\"default\":\"\",\"kind\":null,\"name\":\"terminal_output\"},{\"default\":\"\",\"kind\":null,\"name\":\"debug_name\"},{\"default\":0,\"kind\":null,\"name\":\"clears\"}]},{\"extends\":null,\"module\":null,\"name\":\"NotificationAreaBase1\",\"overrides\":[],\"properties\":[{\"default\":\"bottom-right\",\"kind\":null,\"name\":\"position\"},{\"default\":0,\"kind\":null,\"name\":\"_clear\"}]},{\"extends\":null,\"module\":null,\"name\":\"NotificationArea1\",\"overrides\":[],\"properties\":[{\"default\":[],\"kind\":null,\"name\":\"notifications\"},{\"default\":\"bottom-right\",\"kind\":null,\"name\":\"position\"},{\"default\":0,\"kind\":null,\"name\":\"_clear\"},{\"default\":[{\"background\":\"#ffc107\",\"icon\":{\"className\":\"fas fa-exclamation-triangle\",\"color\":\"white\",\"tagName\":\"i\"},\"type\":\"warning\"},{\"background\":\"#007bff\",\"icon\":{\"className\":\"fas fa-info-circle\",\"color\":\"white\",\"tagName\":\"i\"},\"type\":\"info\"}],\"kind\":null,\"name\":\"types\"}]},{\"extends\":null,\"module\":null,\"name\":\"Notification\",\"overrides\":[],\"properties\":[{\"default\":null,\"kind\":null,\"name\":\"background\"},{\"default\":3000,\"kind\":null,\"name\":\"duration\"},{\"default\":null,\"kind\":null,\"name\":\"icon\"},{\"default\":\"\",\"kind\":null,\"name\":\"message\"},{\"default\":null,\"kind\":null,\"name\":\"notification_type\"},{\"default\":false,\"kind\":null,\"name\":\"_destroyed\"}]},{\"extends\":null,\"module\":null,\"name\":\"TemplateActions1\",\"overrides\":[],\"properties\":[{\"default\":0,\"kind\":null,\"name\":\"open_modal\"},{\"default\":0,\"kind\":null,\"name\":\"close_modal\"}]},{\"extends\":null,\"module\":null,\"name\":\"MaterialTemplateActions1\",\"overrides\":[],\"properties\":[{\"default\":0,\"kind\":null,\"name\":\"open_modal\"},{\"default\":0,\"kind\":null,\"name\":\"close_modal\"}]}],\"roots\":{\"references\":[{\"attributes\":{\"line_color\":\"#fc4f30\",\"line_width\":2,\"x\":{\"field\":\"year\"},\"y\":{\"field\":\"viewCount\"}},\"id\":\"5674\",\"type\":\"Line\"},{\"attributes\":{\"source\":{\"id\":\"5666\"}},\"id\":\"5673\",\"type\":\"CDSView\"},{\"attributes\":{\"line_color\":\"#6d904f\",\"line_width\":2,\"x\":{\"field\":\"year\"},\"y\":{\"field\":\"viewCount\"}},\"id\":\"5692\",\"type\":\"Line\"},{\"attributes\":{\"overlay\":{\"id\":\"5643\"}},\"id\":\"5641\",\"type\":\"BoxZoomTool\"},{\"attributes\":{},\"id\":\"5642\",\"type\":\"ResetTool\"},{\"attributes\":{},\"id\":\"5667\",\"type\":\"Selection\"},{\"attributes\":{\"line_alpha\":0.2,\"line_color\":\"#e5ae38\",\"line_width\":2,\"x\":{\"field\":\"year\"},\"y\":{\"field\":\"viewCount\"}},\"id\":\"5680\",\"type\":\"Line\"},{\"attributes\":{\"end\":2023.0,\"reset_end\":2023.0,\"reset_start\":2009.0,\"start\":2009.0,\"tags\":[[[\"year\",\"year\",null]]]},\"id\":\"5615\",\"type\":\"Range1d\"},{\"attributes\":{},\"id\":\"5710\",\"type\":\"UnionRenderers\"},{\"attributes\":{\"line_color\":\"#e5ae38\",\"line_width\":2,\"x\":{\"field\":\"year\"},\"y\":{\"field\":\"viewCount\"}},\"id\":\"5678\",\"type\":\"Line\"},{\"attributes\":{},\"id\":\"5704\",\"type\":\"UnionRenderers\"},{\"attributes\":{\"bottom_units\":\"screen\",\"coordinates\":null,\"fill_alpha\":0.5,\"fill_color\":\"lightgrey\",\"group\":null,\"left_units\":\"screen\",\"level\":\"overlay\",\"line_alpha\":1.0,\"line_color\":\"black\",\"line_dash\":[4,4],\"line_width\":2,\"right_units\":\"screen\",\"syncable\":false,\"top_units\":\"screen\"},\"id\":\"5643\",\"type\":\"BoxAnnotation\"},{\"attributes\":{\"end\":2211848.929787234,\"reset_end\":2211848.929787234,\"reset_start\":-187790.99361702127,\"start\":-187790.99361702127,\"tags\":[[[\"viewCount\",\"viewCount\",null]]]},\"id\":\"5616\",\"type\":\"Range1d\"},{\"attributes\":{\"line_alpha\":0.1,\"line_color\":\"#e5ae38\",\"line_width\":2,\"x\":{\"field\":\"year\"},\"y\":{\"field\":\"viewCount\"}},\"id\":\"5679\",\"type\":\"Line\"},{\"attributes\":{\"line_color\":\"#30a2da\",\"line_width\":2,\"x\":{\"field\":\"year\"},\"y\":{\"field\":\"viewCount\"}},\"id\":\"5660\",\"type\":\"Line\"},{\"attributes\":{\"line_alpha\":0.2,\"line_color\":\"#30a2da\",\"line_width\":2,\"x\":{\"field\":\"year\"},\"y\":{\"field\":\"viewCount\"}},\"id\":\"5662\",\"type\":\"Line\"},{\"attributes\":{\"source\":{\"id\":\"5675\"}},\"id\":\"5682\",\"type\":\"CDSView\"},{\"attributes\":{},\"id\":\"5626\",\"type\":\"LinearScale\"},{\"attributes\":{\"callback\":null,\"renderers\":[{\"id\":\"5663\"},{\"id\":\"5672\"},{\"id\":\"5681\"},{\"id\":\"5690\"}],\"tags\":[\"hv_created\"],\"tooltips\":[[\"channelName\",\"@{channelName}\"],[\"year\",\"@{year}\"],[\"viewCount\",\"@{viewCount}\"]]},\"id\":\"5617\",\"type\":\"HoverTool\"},{\"attributes\":{\"line_alpha\":0.1,\"line_color\":\"#30a2da\",\"line_width\":2,\"x\":{\"field\":\"year\"},\"y\":{\"field\":\"viewCount\"}},\"id\":\"5661\",\"type\":\"Line\"},{\"attributes\":{\"coordinates\":null,\"data_source\":{\"id\":\"5666\"},\"glyph\":{\"id\":\"5669\"},\"group\":null,\"hover_glyph\":null,\"muted_glyph\":{\"id\":\"5671\"},\"nonselection_glyph\":{\"id\":\"5670\"},\"selection_glyph\":{\"id\":\"5674\"},\"view\":{\"id\":\"5673\"}},\"id\":\"5672\",\"type\":\"GlyphRenderer\"},{\"attributes\":{},\"id\":\"5676\",\"type\":\"Selection\"},{\"attributes\":{\"below\":[{\"id\":\"5630\"}],\"center\":[{\"id\":\"5633\"},{\"id\":\"5637\"}],\"height\":260,\"left\":[{\"id\":\"5634\"}],\"margin\":[5,5,5,5],\"min_border_bottom\":10,\"min_border_left\":10,\"min_border_right\":10,\"min_border_top\":10,\"renderers\":[{\"id\":\"5663\"},{\"id\":\"5672\"},{\"id\":\"5681\"},{\"id\":\"5690\"}],\"sizing_mode\":\"fixed\",\"title\":{\"id\":\"5622\"},\"toolbar\":{\"id\":\"5644\"},\"width\":700,\"x_range\":{\"id\":\"5615\"},\"x_scale\":{\"id\":\"5626\"},\"y_range\":{\"id\":\"5616\"},\"y_scale\":{\"id\":\"5628\"}},\"id\":\"5621\",\"subtype\":\"Figure\",\"type\":\"Plot\"},{\"attributes\":{\"coordinates\":null,\"data_source\":{\"id\":\"5675\"},\"glyph\":{\"id\":\"5678\"},\"group\":null,\"hover_glyph\":null,\"muted_glyph\":{\"id\":\"5680\"},\"nonselection_glyph\":{\"id\":\"5679\"},\"selection_glyph\":{\"id\":\"5683\"},\"view\":{\"id\":\"5682\"}},\"id\":\"5681\",\"type\":\"GlyphRenderer\"},{\"attributes\":{\"source\":{\"id\":\"5657\"}},\"id\":\"5664\",\"type\":\"CDSView\"},{\"attributes\":{},\"id\":\"5658\",\"type\":\"Selection\"},{\"attributes\":{},\"id\":\"5706\",\"type\":\"UnionRenderers\"},{\"attributes\":{\"data\":{\"channelName\":[\"\\u0411\\u0435\\u0441\\u043e\\u0433\\u043e\\u043dTV\",\"\\u0411\\u0435\\u0441\\u043e\\u0433\\u043e\\u043dTV\",\"\\u0411\\u0435\\u0441\\u043e\\u0433\\u043e\\u043dTV\",\"\\u0411\\u0435\\u0441\\u043e\\u0433\\u043e\\u043dTV\",\"\\u0411\\u0435\\u0441\\u043e\\u0433\\u043e\\u043dTV\",\"\\u0411\\u0435\\u0441\\u043e\\u0433\\u043e\\u043dTV\",\"\\u0411\\u0435\\u0441\\u043e\\u0433\\u043e\\u043dTV\",\"\\u0411\\u0435\\u0441\\u043e\\u0433\\u043e\\u043dTV\",\"\\u0411\\u0435\\u0441\\u043e\\u0433\\u043e\\u043dTV\",\"\\u0411\\u0435\\u0441\\u043e\\u0433\\u043e\\u043dTV\",\"\\u0411\\u0435\\u0441\\u043e\\u0433\\u043e\\u043dTV\",\"\\u0411\\u0435\\u0441\\u043e\\u0433\\u043e\\u043dTV\",\"\\u0411\\u0435\\u0441\\u043e\\u0433\\u043e\\u043dTV\"],\"viewCount\":{\"__ndarray__\":\"mVxBTO7360DkOI7jOI/QQAAAAACIJORAMzMzM6tWC0G3bdu23IooQV100UU/URRB6aKLLpp9E0G66KKLumgiQQAAAADnVClBYid2YgPCNUGrqqrqwiYqQfmKr/gOPi1BAAAAAEwzIUE=\",\"dtype\":\"float64\",\"order\":\"little\",\"shape\":[13]},\"year\":[2011,2012,2013,2014,2015,2016,2017,2018,2019,2020,2021,2022,2023]},\"selected\":{\"id\":\"5667\"},\"selection_policy\":{\"id\":\"5706\"}},\"id\":\"5666\",\"type\":\"ColumnDataSource\"},{\"attributes\":{\"line_color\":\"#30a2da\",\"line_width\":2,\"x\":{\"field\":\"year\"},\"y\":{\"field\":\"viewCount\"}},\"id\":\"5665\",\"type\":\"Line\"},{\"attributes\":{\"active_drag\":{\"id\":\"5639\"},\"active_scroll\":{\"id\":\"5640\"},\"tools\":[{\"id\":\"5617\"},{\"id\":\"5638\"},{\"id\":\"5639\"},{\"id\":\"5640\"},{\"id\":\"5641\"},{\"id\":\"5642\"}]},\"id\":\"5644\",\"type\":\"Toolbar\"},{\"attributes\":{\"line_color\":\"#e5ae38\",\"line_width\":2,\"x\":{\"field\":\"year\"},\"y\":{\"field\":\"viewCount\"}},\"id\":\"5683\",\"type\":\"Line\"},{\"attributes\":{\"line_color\":\"#6d904f\",\"line_width\":2,\"x\":{\"field\":\"year\"},\"y\":{\"field\":\"viewCount\"}},\"id\":\"5687\",\"type\":\"Line\"},{\"attributes\":{\"line_alpha\":0.1,\"line_color\":\"#6d904f\",\"line_width\":2,\"x\":{\"field\":\"year\"},\"y\":{\"field\":\"viewCount\"}},\"id\":\"5688\",\"type\":\"Line\"},{\"attributes\":{\"line_alpha\":0.2,\"line_color\":\"#6d904f\",\"line_width\":2,\"x\":{\"field\":\"year\"},\"y\":{\"field\":\"viewCount\"}},\"id\":\"5689\",\"type\":\"Line\"},{\"attributes\":{},\"id\":\"5653\",\"type\":\"AllLabels\"},{\"attributes\":{\"data\":{\"channelName\":[\"varlamov\",\"varlamov\",\"varlamov\",\"varlamov\",\"varlamov\",\"varlamov\",\"varlamov\",\"varlamov\",\"varlamov\",\"varlamov\",\"varlamov\",\"varlamov\",\"varlamov\",\"varlamov\",\"varlamov\"],\"viewCount\":{\"__ndarray__\":\"AAAAAND+40AAAAAAgPLIQAAAAABwGv5AAAAAAIDJx0BmZmZmBhrmQM3MzMxE9vhASp/0Sd8g60Dbtm3bVjADQei0gU5j+ghBZmZmZp6JG0EY0F9AXYgdQXIjN/IlXStBLWQha/0aOkHf2ajv5rI+Qemii66aEDhB\",\"dtype\":\"float64\",\"order\":\"little\",\"shape\":[15]},\"year\":[2009,2010,2011,2012,2013,2014,2015,2016,2017,2018,2019,2020,2021,2022,2023]},\"selected\":{\"id\":\"5658\"},\"selection_policy\":{\"id\":\"5704\"}},\"id\":\"5657\",\"type\":\"ColumnDataSource\"},{\"attributes\":{\"coordinates\":null,\"group\":null,\"text_color\":\"black\",\"text_font_size\":\"12pt\"},\"id\":\"5622\",\"type\":\"Title\"},{\"attributes\":{},\"id\":\"5655\",\"type\":\"BasicTickFormatter\"},{\"attributes\":{\"children\":[{\"id\":\"5621\"}],\"height\":260,\"margin\":[0,0,0,0],\"name\":\"Row02166\",\"sizing_mode\":\"fixed\",\"tags\":[\"embedded\"],\"width\":700},\"id\":\"5614\",\"type\":\"Row\"},{\"attributes\":{\"line_alpha\":0.2,\"line_color\":\"#fc4f30\",\"line_width\":2,\"x\":{\"field\":\"year\"},\"y\":{\"field\":\"viewCount\"}},\"id\":\"5671\",\"type\":\"Line\"},{\"attributes\":{},\"id\":\"5631\",\"type\":\"BasicTicker\"},{\"attributes\":{},\"id\":\"5656\",\"type\":\"AllLabels\"},{\"attributes\":{\"axis\":{\"id\":\"5630\"},\"coordinates\":null,\"grid_line_color\":null,\"group\":null,\"ticker\":null},\"id\":\"5633\",\"type\":\"Grid\"},{\"attributes\":{\"line_alpha\":0.1,\"line_color\":\"#fc4f30\",\"line_width\":2,\"x\":{\"field\":\"year\"},\"y\":{\"field\":\"viewCount\"}},\"id\":\"5670\",\"type\":\"Line\"},{\"attributes\":{\"data\":{\"channelName\":[\"\\u041c\\u0430\\u043a\\u0441\\u0438\\u043c \\u041a\\u0430\\u0446\",\"\\u041c\\u0430\\u043a\\u0441\\u0438\\u043c \\u041a\\u0430\\u0446\",\"\\u041c\\u0430\\u043a\\u0441\\u0438\\u043c \\u041a\\u0430\\u0446\",\"\\u041c\\u0430\\u043a\\u0441\\u0438\\u043c \\u041a\\u0430\\u0446\",\"\\u041c\\u0430\\u043a\\u0441\\u0438\\u043c \\u041a\\u0430\\u0446\",\"\\u041c\\u0430\\u043a\\u0441\\u0438\\u043c \\u041a\\u0430\\u0446\",\"\\u041c\\u0430\\u043a\\u0441\\u0438\\u043c \\u041a\\u0430\\u0446\",\"\\u041c\\u0430\\u043a\\u0441\\u0438\\u043c \\u041a\\u0430\\u0446\",\"\\u041c\\u0430\\u043a\\u0441\\u0438\\u043c \\u041a\\u0430\\u0446\",\"\\u041c\\u0430\\u043a\\u0441\\u0438\\u043c \\u041a\\u0430\\u0446\",\"\\u041c\\u0430\\u043a\\u0441\\u0438\\u043c \\u041a\\u0430\\u0446\"],\"viewCount\":{\"__ndarray__\":\"AAAAAABCzECrqqqqCkj7QG7btm1zVwFBzczMzIzu7kAAAAAAAHHKQAAAAAAAfwZBAAAAAICl7kDT0tJSuTAZQac3vemtxRBBkXTGSdaTK0E/6ZM+YVYrQQ==\",\"dtype\":\"float64\",\"order\":\"little\",\"shape\":[11]},\"year\":[2012,2013,2014,2015,2016,2018,2019,2020,2021,2022,2023]},\"selected\":{\"id\":\"5685\"},\"selection_policy\":{\"id\":\"5710\"}},\"id\":\"5684\",\"type\":\"ColumnDataSource\"},{\"attributes\":{\"axis_label\":\"year\",\"coordinates\":null,\"formatter\":{\"id\":\"5652\"},\"group\":null,\"major_label_policy\":{\"id\":\"5653\"},\"ticker\":{\"id\":\"5631\"}},\"id\":\"5630\",\"type\":\"LinearAxis\"},{\"attributes\":{},\"id\":\"5628\",\"type\":\"LinearScale\"},{\"attributes\":{},\"id\":\"5708\",\"type\":\"UnionRenderers\"},{\"attributes\":{\"source\":{\"id\":\"5684\"}},\"id\":\"5691\",\"type\":\"CDSView\"},{\"attributes\":{},\"id\":\"5639\",\"type\":\"PanTool\"},{\"attributes\":{\"coordinates\":null,\"data_source\":{\"id\":\"5657\"},\"glyph\":{\"id\":\"5660\"},\"group\":null,\"hover_glyph\":null,\"muted_glyph\":{\"id\":\"5662\"},\"nonselection_glyph\":{\"id\":\"5661\"},\"selection_glyph\":{\"id\":\"5665\"},\"view\":{\"id\":\"5664\"}},\"id\":\"5663\",\"type\":\"GlyphRenderer\"},{\"attributes\":{\"axis_label\":\"viewCount\",\"coordinates\":null,\"formatter\":{\"id\":\"5655\"},\"group\":null,\"major_label_policy\":{\"id\":\"5656\"},\"ticker\":{\"id\":\"5635\"}},\"id\":\"5634\",\"type\":\"LinearAxis\"},{\"attributes\":{},\"id\":\"5685\",\"type\":\"Selection\"},{\"attributes\":{\"axis\":{\"id\":\"5634\"},\"coordinates\":null,\"dimension\":1,\"grid_line_color\":null,\"group\":null,\"ticker\":null},\"id\":\"5637\",\"type\":\"Grid\"},{\"attributes\":{\"data\":{\"channelName\":[\"\\u0415\\u043a\\u0430\\u0442\\u0435\\u0440\\u0438\\u043d\\u0430 \\u0428\\u0443\\u043b\\u044c\\u043c\\u0430\\u043d\",\"\\u0415\\u043a\\u0430\\u0442\\u0435\\u0440\\u0438\\u043d\\u0430 \\u0428\\u0443\\u043b\\u044c\\u043c\\u0430\\u043d\",\"\\u0415\\u043a\\u0430\\u0442\\u0435\\u0440\\u0438\\u043d\\u0430 \\u0428\\u0443\\u043b\\u044c\\u043c\\u0430\\u043d\",\"\\u0415\\u043a\\u0430\\u0442\\u0435\\u0440\\u0438\\u043d\\u0430 \\u0428\\u0443\\u043b\\u044c\\u043c\\u0430\\u043d\",\"\\u0415\\u043a\\u0430\\u0442\\u0435\\u0440\\u0438\\u043d\\u0430 \\u0428\\u0443\\u043b\\u044c\\u043c\\u0430\\u043d\",\"\\u0415\\u043a\\u0430\\u0442\\u0435\\u0440\\u0438\\u043d\\u0430 \\u0428\\u0443\\u043b\\u044c\\u043c\\u0430\\u043d\",\"\\u0415\\u043a\\u0430\\u0442\\u0435\\u0440\\u0438\\u043d\\u0430 \\u0428\\u0443\\u043b\\u044c\\u043c\\u0430\\u043d\",\"\\u0415\\u043a\\u0430\\u0442\\u0435\\u0440\\u0438\\u043d\\u0430 \\u0428\\u0443\\u043b\\u044c\\u043c\\u0430\\u043d\"],\"viewCount\":{\"__ndarray__\":\"chzHcbwc3EAVzJJysHnzQI/C9Sjcg+tAQCi5UzQ68UDEptKQAyv+QDc3NzfvzwdBpshn3SB2H0Hx8PDwkBMVQQ==\",\"dtype\":\"float64\",\"order\":\"little\",\"shape\":[8]},\"year\":[2016,2017,2018,2019,2020,2021,2022,2023]},\"selected\":{\"id\":\"5676\"},\"selection_policy\":{\"id\":\"5708\"}},\"id\":\"5675\",\"type\":\"ColumnDataSource\"},{\"attributes\":{},\"id\":\"5635\",\"type\":\"BasicTicker\"},{\"attributes\":{},\"id\":\"5652\",\"type\":\"BasicTickFormatter\"},{\"attributes\":{},\"id\":\"5640\",\"type\":\"WheelZoomTool\"},{\"attributes\":{\"coordinates\":null,\"data_source\":{\"id\":\"5684\"},\"glyph\":{\"id\":\"5687\"},\"group\":null,\"hover_glyph\":null,\"muted_glyph\":{\"id\":\"5689\"},\"nonselection_glyph\":{\"id\":\"5688\"},\"selection_glyph\":{\"id\":\"5692\"},\"view\":{\"id\":\"5691\"}},\"id\":\"5690\",\"type\":\"GlyphRenderer\"},{\"attributes\":{},\"id\":\"5638\",\"type\":\"SaveTool\"},{\"attributes\":{\"line_color\":\"#fc4f30\",\"line_width\":2,\"x\":{\"field\":\"year\"},\"y\":{\"field\":\"viewCount\"}},\"id\":\"5669\",\"type\":\"Line\"}],\"root_ids\":[\"5614\"]},\"title\":\"Bokeh Application\",\"version\":\"2.4.3\"}};\n",
       "    var render_items = [{\"docid\":\"afbf8f84-49a0-405e-ad7d-9718a783c493\",\"root_ids\":[\"5614\"],\"roots\":{\"5614\":\"4de969b8-90a2-475b-ab09-32cdfb08e197\"}}];\n",
       "    root.Bokeh.embed.embed_items_notebook(docs_json, render_items);\n",
       "    for (const render_item of render_items) {\n",
       "      for (const root_id of render_item.root_ids) {\n",
       "\tconst id_el = document.getElementById(root_id)\n",
       "\tif (id_el.children.length && (id_el.children[0].className === 'bk-root')) {\n",
       "\t  const root_el = id_el.children[0]\n",
       "\t  root_el.id = root_el.id + '-rendered'\n",
       "\t}\n",
       "      }\n",
       "    }\n",
       "  }\n",
       "  if (root.Bokeh !== undefined && root.Bokeh.Panel !== undefined) {\n",
       "    embed_document(root);\n",
       "  } else {\n",
       "    var attempts = 0;\n",
       "    var timer = setInterval(function(root) {\n",
       "      if (root.Bokeh !== undefined && root.Bokeh.Panel !== undefined) {\n",
       "        clearInterval(timer);\n",
       "        embed_document(root);\n",
       "      } else if (document.readyState == \"complete\") {\n",
       "        attempts++;\n",
       "        if (attempts > 200) {\n",
       "          clearInterval(timer);\n",
       "          console.log(\"Bokeh: ERROR: Unable to run BokehJS code because BokehJS library is missing\");\n",
       "        }\n",
       "      }\n",
       "    }, 25, root)\n",
       "  }\n",
       "})(window);</script>"
      ],
      "text/plain": [
       ":NdOverlay   [channelName]\n",
       "   :Curve   [year]   (viewCount)"
      ]
     },
     "execution_count": 26,
     "metadata": {
      "application/vnd.holoviews_exec.v0+json": {
       "id": "5614"
      }
     },
     "output_type": "execute_result"
    }
   ],
   "source": [
    "vid_lplt = video_df[['channelName', 'year', 'viewCount']].groupby(['year', 'channelName']).mean('viewCount').hvplot.line(by='channelName',\\\n",
    "    legend=False, height=260)\n",
    "vid_lplt\n"
   ]
  },
  {
   "attachments": {},
   "cell_type": "markdown",
   "metadata": {},
   "source": [
    "Most popular tags\n",
    "\n",
    "Before the wordcloud will be created it is necessary to check the most populat tags in each channel since it is common practice that bloggers add tags with their or channel's names."
   ]
  },
  {
   "cell_type": "code",
   "execution_count": 27,
   "metadata": {},
   "outputs": [
    {
     "name": "stdout",
     "output_type": "stream",
     "text": [
      "channelName  tag            \n",
      "БесогонTV    михалков           157\n",
      "             никита михалков    155\n",
      "             бесогон            104\n",
      "             бесогонтв           71\n",
      "             россия              53\n",
      "             украина             51\n",
      "             противостояние      48\n",
      "             крым                48\n",
      "             майдан              47\n",
      "             война               47\n",
      "             политика            46\n",
      "             власть              45\n",
      "             прилепин            45\n",
      "             экономика           44\n",
      "             протест             44\n",
      "dtype: int64\n",
      "channelName        tag              \n",
      "Екатерина Шульман  екатерина шульман    330\n",
      "                   шульман              325\n",
      "                   политология          176\n",
      "                   россия               101\n",
      "                   статус                99\n",
      "                   эхо москвы            75\n",
      "                   госдума               73\n",
      "                   общество              67\n",
      "                   навальный             54\n",
      "                   украина               54\n",
      "                   выборы                51\n",
      "                   максим курников       47\n",
      "                   репрессии             46\n",
      "                   путин                 44\n",
      "                   законотворчество      33\n",
      "dtype: int64\n",
      "channelName  tag                    \n",
      "Максим Кац   кац                        902\n",
      "             максим кац                 751\n",
      "             макс кац                   606\n",
      "             россия                     558\n",
      "             максим катс                524\n",
      "             макс катс                  506\n",
      "             политика                   395\n",
      "             путин                      364\n",
      "             украина                    281\n",
      "             выборы                     267\n",
      "             демократия                 263\n",
      "             кац предлагает победить    243\n",
      "             зеленский                  231\n",
      "             депутаты                   221\n",
      "             война                      200\n",
      "dtype: int64\n",
      "channelName  tag               \n",
      "varlamov     варламов              1029\n",
      "             varlamov               877\n",
      "             илья варламов          777\n",
      "             varlamov.ru            616\n",
      "             варламов ютуб          523\n",
      "             варламов илья          486\n",
      "             россия                 364\n",
      "             канал варламова        344\n",
      "             ролики варламова       277\n",
      "             варламов ру            252\n",
      "             илья варламов блог     250\n",
      "             zyalt                  249\n",
      "             илья варламов ютуб     247\n",
      "             благоустройство        245\n",
      "             илья варламов жж       232\n",
      "dtype: int64\n"
     ]
    }
   ],
   "source": [
    "# analyzing the most popular tags in ach channel\n",
    "for i in list(channel_info['channelName']):\n",
    "        print(tag_df[['channelName', 'tag']][tag_df['channelName'] == i].groupby('channelName').\\\n",
    "                value_counts()[0:15])"
   ]
  },
  {
   "cell_type": "code",
   "execution_count": 28,
   "metadata": {},
   "outputs": [],
   "source": [
    "skip_tags = ['варламов', 'varlamov', 'илья варламов', 'varlamov.ru', 'варламов ютуб', 'варламов илья',\\\n",
    "    'канал варламова', 'ролики варламова', 'варламов ру', 'илья варламов блог', 'zyalt', 'илья варламов ютуб',\\\n",
    "    'благоустройство', 'илья варламов жж',  'михалков', 'никита михалков', 'бесогон', 'бесогонтв', 'кац',\\\n",
    "    'максим кац', 'макс кац', 'максим катс', 'макс катс', 'кац предлагает победить', 'екатерина шульман',\n",
    "    'шульман', 'максим курников', 'бесогон tv', 'besogon', 'варламов москва', 'варламов и кац', 'варламов сша']"
   ]
  },
  {
   "cell_type": "code",
   "execution_count": 29,
   "metadata": {},
   "outputs": [],
   "source": [
    "db_name = 'youtube_ch.db'\n",
    "conn = sq.connect(db_name)\n",
    "tag_df = pd.read_sql(f'''select t.video_id, tag, publishedAt, channelName from tags as t\n",
    "JOIN videos as v ON v.video_id = t.video_id\n",
    "JOIN channels as c ON v.channelId= c.channelId\n",
    "WHERE tag NOT IN ({', '.join([\"'\" + x + \"'\" for x in skip_tags])})''', conn)\n",
    "conn.close\n",
    "tag_df['publishedAt'] = pd.to_datetime(tag_df['publishedAt'])\n",
    "tag_df['year'] = tag_df['publishedAt'].dt.year\n",
    "tag_df['yearMonth'] = tag_df['publishedAt'].dt.strftime('%Y-%m')"
   ]
  },
  {
   "cell_type": "code",
   "execution_count": 30,
   "metadata": {},
   "outputs": [
    {
     "data": {
      "application/vnd.jupyter.widget-view+json": {
       "model_id": "e5470404f49149238c7f14d4543f7964",
       "version_major": 2,
       "version_minor": 0
      },
      "text/plain": [
       "BokehModel(combine_events=True, render_bundle={'docs_json': {'aef511b1-30ab-49a5-8f2a-50dc303b897c': {'defs': …"
      ]
     },
     "metadata": {},
     "output_type": "display_data"
    },
    {
     "data": {
      "text/html": [
       "<div style=\"display: none\"></div>"
      ],
      "text/plain": [
       "Column\n",
       "    [0] DateRangeSlider(end=Timestamp('2023-02-15 1..., name='Date range', start=Timestamp('2009-03-18 2..., value=(Timestamp('2009-03-18 21:..., value_end=Timestamp('2023-02-15 1..., value_start=Timestamp('2009-03-18 2...)\n",
       "    [1] CheckButtonGroup(button_type='primary', name='Channels', options=['БесогонTV', ...], orientation='vertical', value=['БесогонTV', ...])\n",
       "    [2] ParamFunction(function, _pane=PNG)"
      ]
     },
     "execution_count": 30,
     "metadata": {},
     "output_type": "execute_result"
    }
   ],
   "source": [
    "@pn.depends(w_yearrange.param.value)\n",
    "@pn.depends(w_choose_channel.param.value)\n",
    "def wcld_image_yt(yearr, channels):\n",
    "    wordcloudt = WordCloud(width = 320, height = 550, background_color='#d3eaf2', font_path='C:\\\\Users\\\\USER\\AppData\\Local\\Microsoft\\Windows\\Fonts\\\\Neue_soviet.ttf',\\\n",
    "        random_state=3, colormap='cool', color_func=lambda word, **kwargs:  '#6e1b29'if word=='россия' else \"#524561\", collocations=False, \\\n",
    "            relative_scaling=0.5).generate_from_frequencies(tag_df[(video_df['publishedAt']>=yearr[0])&(video_df['publishedAt']<=yearr[1])&(tag_df['channelName'].isin(channels))]['tag'].value_counts()[0:35])\n",
    "    return wordcloudt.to_image()\n",
    "\n",
    "# color_func=lambda word, **kwargs:  (255,0,0) if word=='россия' else colormap,\n",
    "wordcloud = pn.bind(wcld_image_yt, w_yearrange, w_choose_channel)\n",
    "\n",
    "pn.Column(w_yearrange, w_choose_channel, wordcloud)"
   ]
  },
  {
   "attachments": {},
   "cell_type": "markdown",
   "metadata": {},
   "source": [
    "Distribution"
   ]
  },
  {
   "cell_type": "code",
   "execution_count": 31,
   "metadata": {},
   "outputs": [
    {
     "data": {
      "application/vnd.holoviews_exec.v0+json": "",
      "text/html": [
       "<div id='6837'>\n",
       "  <div class=\"bk-root\" id=\"da710877-caf5-4f12-91e7-1489d4f8e9b1\" data-root-id=\"6837\"></div>\n",
       "</div>\n",
       "<script type=\"application/javascript\">(function(root) {\n",
       "  function embed_document(root) {\n",
       "    var docs_json = {\"7b36bda3-6bba-41d3-9355-c07a61a7a042\":{\"defs\":[{\"extends\":null,\"module\":null,\"name\":\"ReactiveHTML1\",\"overrides\":[],\"properties\":[]},{\"extends\":null,\"module\":null,\"name\":\"FlexBox1\",\"overrides\":[],\"properties\":[{\"default\":\"flex-start\",\"kind\":null,\"name\":\"align_content\"},{\"default\":\"flex-start\",\"kind\":null,\"name\":\"align_items\"},{\"default\":\"row\",\"kind\":null,\"name\":\"flex_direction\"},{\"default\":\"wrap\",\"kind\":null,\"name\":\"flex_wrap\"},{\"default\":\"flex-start\",\"kind\":null,\"name\":\"justify_content\"}]},{\"extends\":null,\"module\":null,\"name\":\"GridStack1\",\"overrides\":[],\"properties\":[{\"default\":\"warn\",\"kind\":null,\"name\":\"mode\"},{\"default\":null,\"kind\":null,\"name\":\"ncols\"},{\"default\":null,\"kind\":null,\"name\":\"nrows\"},{\"default\":true,\"kind\":null,\"name\":\"allow_resize\"},{\"default\":true,\"kind\":null,\"name\":\"allow_drag\"},{\"default\":[],\"kind\":null,\"name\":\"state\"}]},{\"extends\":null,\"module\":null,\"name\":\"click1\",\"overrides\":[],\"properties\":[{\"default\":\"\",\"kind\":null,\"name\":\"terminal_output\"},{\"default\":\"\",\"kind\":null,\"name\":\"debug_name\"},{\"default\":0,\"kind\":null,\"name\":\"clears\"}]},{\"extends\":null,\"module\":null,\"name\":\"NotificationAreaBase1\",\"overrides\":[],\"properties\":[{\"default\":\"bottom-right\",\"kind\":null,\"name\":\"position\"},{\"default\":0,\"kind\":null,\"name\":\"_clear\"}]},{\"extends\":null,\"module\":null,\"name\":\"NotificationArea1\",\"overrides\":[],\"properties\":[{\"default\":[],\"kind\":null,\"name\":\"notifications\"},{\"default\":\"bottom-right\",\"kind\":null,\"name\":\"position\"},{\"default\":0,\"kind\":null,\"name\":\"_clear\"},{\"default\":[{\"background\":\"#ffc107\",\"icon\":{\"className\":\"fas fa-exclamation-triangle\",\"color\":\"white\",\"tagName\":\"i\"},\"type\":\"warning\"},{\"background\":\"#007bff\",\"icon\":{\"className\":\"fas fa-info-circle\",\"color\":\"white\",\"tagName\":\"i\"},\"type\":\"info\"}],\"kind\":null,\"name\":\"types\"}]},{\"extends\":null,\"module\":null,\"name\":\"Notification\",\"overrides\":[],\"properties\":[{\"default\":null,\"kind\":null,\"name\":\"background\"},{\"default\":3000,\"kind\":null,\"name\":\"duration\"},{\"default\":null,\"kind\":null,\"name\":\"icon\"},{\"default\":\"\",\"kind\":null,\"name\":\"message\"},{\"default\":null,\"kind\":null,\"name\":\"notification_type\"},{\"default\":false,\"kind\":null,\"name\":\"_destroyed\"}]},{\"extends\":null,\"module\":null,\"name\":\"TemplateActions1\",\"overrides\":[],\"properties\":[{\"default\":0,\"kind\":null,\"name\":\"open_modal\"},{\"default\":0,\"kind\":null,\"name\":\"close_modal\"}]},{\"extends\":null,\"module\":null,\"name\":\"MaterialTemplateActions1\",\"overrides\":[],\"properties\":[{\"default\":0,\"kind\":null,\"name\":\"open_modal\"},{\"default\":0,\"kind\":null,\"name\":\"close_modal\"}]}],\"roots\":{\"references\":[{\"attributes\":{\"axis\":{\"id\":\"6854\"},\"coordinates\":null,\"dimension\":1,\"grid_line_color\":null,\"group\":null,\"ticker\":null},\"id\":\"6857\",\"type\":\"Grid\"},{\"attributes\":{},\"id\":\"6855\",\"type\":\"BasicTicker\"},{\"attributes\":{},\"id\":\"6873\",\"type\":\"AllLabels\"},{\"attributes\":{},\"id\":\"6860\",\"type\":\"WheelZoomTool\"},{\"attributes\":{\"bottom\":{\"value\":0},\"fill_alpha\":{\"value\":0.5},\"fill_color\":{\"value\":\"#30a2da\"},\"hatch_alpha\":{\"value\":0.5},\"hatch_color\":{\"value\":\"#30a2da\"},\"hatch_scale\":{\"value\":12.0},\"hatch_weight\":{\"value\":1.0},\"left\":{\"field\":\"left\"},\"line_alpha\":{\"value\":0.5},\"line_cap\":{\"value\":\"butt\"},\"line_color\":{\"value\":\"black\"},\"line_dash\":{\"value\":[]},\"line_dash_offset\":{\"value\":0},\"line_join\":{\"value\":\"bevel\"},\"line_width\":{\"value\":1},\"right\":{\"field\":\"right\"},\"top\":{\"field\":\"top\"}},\"id\":\"6885\",\"type\":\"Quad\"},{\"attributes\":{},\"id\":\"6858\",\"type\":\"SaveTool\"},{\"attributes\":{},\"id\":\"6846\",\"type\":\"LinearScale\"},{\"attributes\":{\"overlay\":{\"id\":\"6863\"}},\"id\":\"6861\",\"type\":\"BoxZoomTool\"},{\"attributes\":{},\"id\":\"6875\",\"type\":\"BasicTickFormatter\"},{\"attributes\":{},\"id\":\"6862\",\"type\":\"ResetTool\"},{\"attributes\":{},\"id\":\"6876\",\"type\":\"AllLabels\"},{\"attributes\":{\"bottom_units\":\"screen\",\"coordinates\":null,\"fill_alpha\":0.5,\"fill_color\":\"lightgrey\",\"group\":null,\"left_units\":\"screen\",\"level\":\"overlay\",\"line_alpha\":1.0,\"line_color\":\"black\",\"line_dash\":[4,4],\"line_width\":2,\"right_units\":\"screen\",\"syncable\":false,\"top_units\":\"screen\"},\"id\":\"6863\",\"type\":\"BoxAnnotation\"},{\"attributes\":{},\"id\":\"6897\",\"type\":\"UnionRenderers\"},{\"attributes\":{\"coordinates\":null,\"data_source\":{\"id\":\"6877\"},\"glyph\":{\"id\":\"6880\"},\"group\":null,\"hover_glyph\":null,\"muted_glyph\":{\"id\":\"6882\"},\"nonselection_glyph\":{\"id\":\"6881\"},\"selection_glyph\":{\"id\":\"6885\"},\"view\":{\"id\":\"6884\"}},\"id\":\"6883\",\"type\":\"GlyphRenderer\"},{\"attributes\":{\"end\":191.4,\"reset_end\":191.4,\"reset_start\":0.0,\"tags\":[[[\"likeCount_count\",\"Count\",null]]]},\"id\":\"6839\",\"type\":\"Range1d\"},{\"attributes\":{\"bottom\":{\"value\":0},\"fill_alpha\":{\"value\":0.5},\"fill_color\":{\"value\":\"#30a2da\"},\"hatch_alpha\":{\"value\":0.5},\"hatch_color\":{\"value\":\"#30a2da\"},\"left\":{\"field\":\"left\"},\"line_alpha\":{\"value\":0.5},\"right\":{\"field\":\"right\"},\"top\":{\"field\":\"top\"}},\"id\":\"6880\",\"type\":\"Quad\"},{\"attributes\":{\"bottom\":{\"value\":0},\"fill_alpha\":{\"value\":0.5},\"fill_color\":{\"value\":\"#30a2da\"},\"hatch_alpha\":{\"value\":0.1},\"hatch_color\":{\"value\":\"#30a2da\"},\"left\":{\"field\":\"left\"},\"line_alpha\":{\"value\":0.5},\"right\":{\"field\":\"right\"},\"top\":{\"field\":\"top\"}},\"id\":\"6881\",\"type\":\"Quad\"},{\"attributes\":{\"data\":{\"channelName\":[\"varlamov\",\"varlamov\",\"varlamov\",\"varlamov\",\"varlamov\",\"varlamov\",\"varlamov\",\"varlamov\",\"varlamov\",\"varlamov\",\"varlamov\",\"varlamov\",\"varlamov\",\"varlamov\",\"varlamov\",\"varlamov\",\"varlamov\",\"varlamov\",\"varlamov\",\"varlamov\",\"varlamov\",\"varlamov\",\"varlamov\",\"varlamov\",\"varlamov\",\"varlamov\",\"varlamov\",\"varlamov\",\"varlamov\",\"varlamov\",\"varlamov\",\"varlamov\",\"varlamov\",\"varlamov\",\"varlamov\",\"varlamov\",\"varlamov\",\"varlamov\",\"varlamov\",\"varlamov\",\"varlamov\",\"varlamov\",\"varlamov\",\"varlamov\",\"varlamov\",\"varlamov\",\"varlamov\",\"varlamov\",\"varlamov\",\"varlamov\",\"varlamov\",\"varlamov\",\"varlamov\",\"varlamov\",\"varlamov\",\"varlamov\",\"varlamov\",\"varlamov\",\"varlamov\",\"varlamov\",\"varlamov\",\"varlamov\",\"varlamov\",\"varlamov\",\"varlamov\",\"varlamov\",\"varlamov\",\"varlamov\",\"varlamov\",\"varlamov\",\"varlamov\",\"varlamov\",\"varlamov\",\"varlamov\",\"varlamov\",\"varlamov\",\"varlamov\",\"varlamov\",\"varlamov\",\"varlamov\",\"varlamov\",\"varlamov\",\"varlamov\",\"varlamov\",\"varlamov\",\"varlamov\",\"varlamov\",\"varlamov\",\"varlamov\",\"varlamov\",\"varlamov\",\"varlamov\",\"varlamov\",\"varlamov\",\"varlamov\",\"varlamov\",\"varlamov\",\"varlamov\",\"varlamov\",\"varlamov\"],\"left\":{\"__ndarray__\":\"AAAAAAAAVEAzMzMzs+6jQDMzMzOznrNAzMzMzAxGvUAzMzMzs3bDQAAAAABgSshAzMzMzAwezUDNzMzM3PjQQDMzMzOzYtNAmZmZmYnM1UAAAAAAYDbYQGZmZmY2oNpAzMzMzAwK3UAzMzMz43PfQM3MzMzc7uBAAAAAAMgj4kAzMzMzs1jjQGZmZmaejeRAmZmZmYnC5UDNzMzMdPfmQAAAAABgLOhAMzMzM0th6UBmZmZmNpbqQJmZmZkhy+tAzMzMzAwA7UAAAAAA+DTuQDMzMzPjae9AMzMzM2dP8EDNzMzM3OnwQGZmZmZShPFAAAAAAMge8kCZmZmZPbnyQDMzMzOzU/NAzczMzCju80BmZmZmnoj0QAAAAAAUI/VAmZmZmYm99UAzMzMz/1f2QM3MzMx08vZAZmZmZuqM90AAAAAAYCf4QJmZmZnVwfhAMzMzM0tc+UDNzMzMwPb5QGZmZmY2kfpAAAAAAKwr+0CZmZmZIcb7QDMzMzOXYPxAzMzMzAz7/EBmZmZmgpX9QAAAAAD4L/5AmZmZmW3K/kAzMzMz42T/QMzMzMxY//9AMzMzM+dMAEEAAAAAIpoAQc3MzMxc5wBBmZmZmZc0AUFmZmZm0oEBQTMzMzMNzwFBAAAAAEgcAkHNzMzMgmkCQZmZmZm9tgJBZmZmZvgDA0EzMzMzM1EDQQAAAABungNBzczMzKjrA0GZmZmZ4zgEQWZmZmYehgRBMzMzM1nTBEEAAAAAlCAFQc3MzMzObQVBmZmZmQm7BUFmZmZmRAgGQTMzMzN/VQZBAAAAALqiBkHNzMzM9O8GQZmZmZkvPQdBZmZmZmqKB0EzMzMzpdcHQQAAAADgJAhBzczMzBpyCEGZmZmZVb8IQWZmZmaQDAlBMzMzM8tZCUEAAAAABqcJQc3MzMxA9AlBmZmZmXtBCkFmZmZmto4KQTMzMzPx2wpBAAAAACwpC0HNzMzMZnYLQZmZmZmhwwtBZmZmZtwQDEEzMzMzF14MQQAAAABSqwxBzMzMzIz4DEGZmZmZx0UNQWZmZmYCkw1BMzMzMz3gDUE=\",\"dtype\":\"float64\",\"order\":\"little\",\"shape\":[100]},\"likeCount\":{\"__ndarray__\":\"MzMzM7OOlEDMzMzMDJatQAAAAABgcrhAzMzMzNwMwUCamZmZieDFQGZmZmY2tMpAMzMzM+OHz0AAAAAAyC3SQGZmZmael9RAzMzMzHQB10AzMzMzS2vZQJmZmZkh1dtAAAAAAPg+3kAzMzMzZ1TgQGZmZmZSieFAmpmZmT2+4kDMzMzMKPPjQAAAAAAUKOVAMzMzM/9c5kBmZmZm6pHnQJqZmZnVxuhAzMzMzMD76UAAAAAArDDrQDIzMzOXZexAZmZmZoKa7UCamZmZbc/uQGZmZmYsAvBAAAAAAKKc8ECamZmZFzfxQDMzMzON0fFAzMzMzAJs8kBmZmZmeAbzQAAAAADuoPNAmpmZmWM79EAzMzMz2dX0QMzMzMxOcPVAZmZmZsQK9kAAAAAAOqX2QJqZmZmvP/dAMzMzMyXa90DMzMzMmnT4QGZmZmYQD/lAAAAAAIap+UCamZmZ+0P6QDMzMzNx3vpAzMzMzOZ4+0BmZmZmXBP8QAAAAADSrfxAmZmZmUdI/UAzMzMzveL9QMzMzMwyff5AZmZmZqgX/0AAAAAAHrL/QMzMzMxJJgBBmpmZmYRzAEFmZmZmv8AAQTMzMzP6DQFBAAAAADVbAUHMzMzMb6gBQZqZmZmq9QFBZmZmZuVCAkEzMzMzIJACQQAAAABb3QJBzMzMzJUqA0GamZmZ0HcDQWZmZmYLxQNBMzMzM0YSBEEAAAAAgV8EQczMzMy7rARBmpmZmfb5BEFmZmZmMUcFQTMzMzNslAVBAAAAAKfhBUHMzMzM4S4GQZqZmZkcfAZBZmZmZlfJBkEzMzMzkhYHQQAAAADNYwdBzMzMzAexB0GamZmZQv4HQWZmZmZ9SwhBMzMzM7iYCEEAAAAA8+UIQczMzMwtMwlBmpmZmWiACUFmZmZmo80JQTMzMzPeGgpBAAAAABloCkHMzMzMU7UKQZqZmZmOAgtBZmZmZslPC0EzMzMzBJ0LQQAAAAA/6gtBzMzMzHk3DEGamZmZtIQMQWZmZmbv0QxBMjMzMyofDUEAAAAAZWwNQczMzMyfuQ1BmpmZmdoGDkE=\",\"dtype\":\"float64\",\"order\":\"little\",\"shape\":[100]},\"likeCount_count\":[174,125,117,117,81,71,58,67,54,45,47,45,38,45,29,27,41,27,28,37,29,24,20,25,18,14,17,20,15,11,16,13,7,3,14,15,7,7,6,7,2,8,2,5,6,4,4,3,2,1,4,4,1,2,0,0,3,1,2,0,0,0,1,0,0,0,0,1,1,1,1,0,0,0,0,0,0,0,0,0,0,0,0,0,0,0,0,0,0,0,0,0,0,0,0,0,0,0,0,1],\"right\":{\"__ndarray__\":\"MzMzM7Puo0AzMzMzs56zQMzMzMwMRr1AMzMzM7N2w0AAAAAAYErIQMzMzMwMHs1AzczMzNz40EAzMzMzs2LTQJmZmZmJzNVAAAAAAGA22EBmZmZmNqDaQMzMzMwMCt1AMzMzM+Nz30DNzMzM3O7gQAAAAADII+JAMzMzM7NY40BmZmZmno3kQJmZmZmJwuVAzczMzHT35kAAAAAAYCzoQDMzMzNLYelAZmZmZjaW6kCZmZmZIcvrQMzMzMwMAO1AAAAAAPg07kAzMzMz42nvQDMzMzNnT/BAzczMzNzp8EBmZmZmUoTxQAAAAADIHvJAmZmZmT258kAzMzMzs1PzQM3MzMwo7vNAZmZmZp6I9EAAAAAAFCP1QJmZmZmJvfVAMzMzM/9X9kDNzMzMdPL2QGZmZmbqjPdAAAAAAGAn+ECZmZmZ1cH4QDMzMzNLXPlAzczMzMD2+UBmZmZmNpH6QAAAAACsK/tAmZmZmSHG+0AzMzMzl2D8QMzMzMwM+/xAZmZmZoKV/UAAAAAA+C/+QJmZmZltyv5AMzMzM+Nk/0DMzMzMWP//QDMzMzPnTABBAAAAACKaAEHNzMzMXOcAQZmZmZmXNAFBZmZmZtKBAUEzMzMzDc8BQQAAAABIHAJBzczMzIJpAkGZmZmZvbYCQWZmZmb4AwNBMzMzMzNRA0EAAAAAbp4DQc3MzMyo6wNBmZmZmeM4BEFmZmZmHoYEQTMzMzNZ0wRBAAAAAJQgBUHNzMzMzm0FQZmZmZkJuwVBZmZmZkQIBkEzMzMzf1UGQQAAAAC6ogZBzczMzPTvBkGZmZmZLz0HQWZmZmZqigdBMzMzM6XXB0EAAAAA4CQIQc3MzMwacghBmZmZmVW/CEFmZmZmkAwJQTMzMzPLWQlBAAAAAAanCUHNzMzMQPQJQZmZmZl7QQpBZmZmZraOCkEzMzMz8dsKQQAAAAAsKQtBzczMzGZ2C0GZmZmZocMLQWZmZmbcEAxBMzMzMxdeDEEAAAAAUqsMQczMzMyM+AxBmZmZmcdFDUFmZmZmApMNQTMzMzM94A1BAAAAAHgtDkE=\",\"dtype\":\"float64\",\"order\":\"little\",\"shape\":[100]},\"top\":[174,125,117,117,81,71,58,67,54,45,47,45,38,45,29,27,41,27,28,37,29,24,20,25,18,14,17,20,15,11,16,13,7,3,14,15,7,7,6,7,2,8,2,5,6,4,4,3,2,1,4,4,1,2,0,0,3,1,2,0,0,0,1,0,0,0,0,1,1,1,1,0,0,0,0,0,0,0,0,0,0,0,0,0,0,0,0,0,0,0,0,0,0,0,0,0,0,0,0,1]},\"selected\":{\"id\":\"6878\"},\"selection_policy\":{\"id\":\"6897\"}},\"id\":\"6877\",\"type\":\"ColumnDataSource\"},{\"attributes\":{},\"id\":\"6878\",\"type\":\"Selection\"},{\"attributes\":{},\"id\":\"6848\",\"type\":\"LinearScale\"},{\"attributes\":{\"bottom\":{\"value\":0},\"fill_alpha\":{\"value\":0.2},\"fill_color\":{\"value\":\"#30a2da\"},\"hatch_alpha\":{\"value\":0.2},\"hatch_color\":{\"value\":\"#30a2da\"},\"left\":{\"field\":\"left\"},\"line_alpha\":{\"value\":0.2},\"right\":{\"field\":\"right\"},\"top\":{\"field\":\"top\"}},\"id\":\"6882\",\"type\":\"Quad\"},{\"attributes\":{\"active_drag\":{\"id\":\"6859\"},\"active_scroll\":{\"id\":\"6860\"},\"tools\":[{\"id\":\"6840\"},{\"id\":\"6858\"},{\"id\":\"6859\"},{\"id\":\"6860\"},{\"id\":\"6861\"},{\"id\":\"6862\"}]},\"id\":\"6864\",\"type\":\"Toolbar\"},{\"attributes\":{\"end\":262043.1,\"reset_end\":262043.1,\"reset_start\":-14748.099999999999,\"start\":-14748.099999999999,\"tags\":[[[\"likeCount\",\"likeCount\",null]]]},\"id\":\"6838\",\"type\":\"Range1d\"},{\"attributes\":{\"coordinates\":null,\"group\":null,\"text_color\":\"black\",\"text_font_size\":\"12pt\"},\"id\":\"6842\",\"type\":\"Title\"},{\"attributes\":{\"children\":[{\"id\":\"6841\"}],\"height\":300,\"margin\":[0,0,0,0],\"name\":\"Row02326\",\"sizing_mode\":\"fixed\",\"tags\":[\"embedded\"],\"width\":500},\"id\":\"6837\",\"type\":\"Row\"},{\"attributes\":{\"callback\":null,\"renderers\":[{\"id\":\"6883\"}],\"tags\":[\"hv_created\"],\"tooltips\":[[\"channelName\",\"@{channelName}\"],[\"likeCount\",\"@{likeCount}\"],[\"Count\",\"@{likeCount_count}\"]]},\"id\":\"6840\",\"type\":\"HoverTool\"},{\"attributes\":{\"below\":[{\"id\":\"6850\"}],\"center\":[{\"id\":\"6853\"},{\"id\":\"6857\"}],\"height\":300,\"left\":[{\"id\":\"6854\"}],\"margin\":[5,5,5,5],\"min_border_bottom\":10,\"min_border_left\":10,\"min_border_right\":10,\"min_border_top\":10,\"renderers\":[{\"id\":\"6883\"}],\"sizing_mode\":\"fixed\",\"title\":{\"id\":\"6842\"},\"toolbar\":{\"id\":\"6864\"},\"width\":500,\"x_range\":{\"id\":\"6838\"},\"x_scale\":{\"id\":\"6846\"},\"y_range\":{\"id\":\"6839\"},\"y_scale\":{\"id\":\"6848\"}},\"id\":\"6841\",\"subtype\":\"Figure\",\"type\":\"Plot\"},{\"attributes\":{},\"id\":\"6859\",\"type\":\"PanTool\"},{\"attributes\":{},\"id\":\"6872\",\"type\":\"BasicTickFormatter\"},{\"attributes\":{\"axis_label\":\"likeCount\",\"coordinates\":null,\"formatter\":{\"id\":\"6872\"},\"group\":null,\"major_label_policy\":{\"id\":\"6873\"},\"ticker\":{\"id\":\"6851\"}},\"id\":\"6850\",\"type\":\"LinearAxis\"},{\"attributes\":{},\"id\":\"6851\",\"type\":\"BasicTicker\"},{\"attributes\":{\"source\":{\"id\":\"6877\"}},\"id\":\"6884\",\"type\":\"CDSView\"},{\"attributes\":{\"axis\":{\"id\":\"6850\"},\"coordinates\":null,\"grid_line_color\":null,\"group\":null,\"ticker\":null},\"id\":\"6853\",\"type\":\"Grid\"},{\"attributes\":{\"axis_label\":\"\",\"coordinates\":null,\"formatter\":{\"id\":\"6875\"},\"group\":null,\"major_label_policy\":{\"id\":\"6876\"},\"ticker\":{\"id\":\"6855\"}},\"id\":\"6854\",\"type\":\"LinearAxis\"}],\"root_ids\":[\"6837\"]},\"title\":\"Bokeh Application\",\"version\":\"2.4.3\"}};\n",
       "    var render_items = [{\"docid\":\"7b36bda3-6bba-41d3-9355-c07a61a7a042\",\"root_ids\":[\"6837\"],\"roots\":{\"6837\":\"da710877-caf5-4f12-91e7-1489d4f8e9b1\"}}];\n",
       "    root.Bokeh.embed.embed_items_notebook(docs_json, render_items);\n",
       "    for (const render_item of render_items) {\n",
       "      for (const root_id of render_item.root_ids) {\n",
       "\tconst id_el = document.getElementById(root_id)\n",
       "\tif (id_el.children.length && (id_el.children[0].className === 'bk-root')) {\n",
       "\t  const root_el = id_el.children[0]\n",
       "\t  root_el.id = root_el.id + '-rendered'\n",
       "\t}\n",
       "      }\n",
       "    }\n",
       "  }\n",
       "  if (root.Bokeh !== undefined && root.Bokeh.Panel !== undefined) {\n",
       "    embed_document(root);\n",
       "  } else {\n",
       "    var attempts = 0;\n",
       "    var timer = setInterval(function(root) {\n",
       "      if (root.Bokeh !== undefined && root.Bokeh.Panel !== undefined) {\n",
       "        clearInterval(timer);\n",
       "        embed_document(root);\n",
       "      } else if (document.readyState == \"complete\") {\n",
       "        attempts++;\n",
       "        if (attempts > 200) {\n",
       "          clearInterval(timer);\n",
       "          console.log(\"Bokeh: ERROR: Unable to run BokehJS code because BokehJS library is missing\");\n",
       "        }\n",
       "      }\n",
       "    }, 25, root)\n",
       "  }\n",
       "})(window);</script>"
      ],
      "text/plain": [
       ":NdOverlay   [channelName]\n",
       "   :Histogram   [likeCount]   (likeCount_count)"
      ]
     },
     "execution_count": 31,
     "metadata": {
      "application/vnd.holoviews_exec.v0+json": {
       "id": "6837"
      }
     },
     "output_type": "execute_result"
    }
   ],
   "source": [
    "vid_hist = video_df[video_df['channelName']=='varlamov'][['channelName', 'likeCount']].hvplot.\\\n",
    "        hist('likeCount', by='channelName', alpha=0.5, bins=100, legend=False, width=500)\n",
    "\n",
    "vid_hist"
   ]
  },
  {
   "attachments": {},
   "cell_type": "markdown",
   "metadata": {},
   "source": [
    "<h3>Conclusion</h3>"
   ]
  },
  {
   "cell_type": "markdown",
   "metadata": {},
   "source": []
  },
  {
   "attachments": {},
   "cell_type": "markdown",
   "metadata": {},
   "source": [
    "Dashboard"
   ]
  },
  {
   "cell_type": "code",
   "execution_count": 32,
   "metadata": {},
   "outputs": [],
   "source": [
    "@pn.depends(w_yearrange.param.value)\n",
    "def year_mrkdn(yearr):\n",
    "    return f'Channels from <u>{yearr[0].strftime(\"%B %Y\")} to {yearr[1].strftime(\"%B %Y\")}</u>'\n",
    "\n",
    "# dashboard\n",
    "template = pn.template.FastListTemplate(\n",
    "    title=\"<b>YouTube channels analysis</b>\",\n",
    "    font_url='https://fonts.googleapis.com/css?family=Tangerine',\n",
    "    sidebar=[pn.pane.Markdown('''<h3><b>Choose channels</b>:</h3>'''),\n",
    "        w_choose_channel,\n",
    "        pn.pane.Markdown('''<br><h3><b>Links</b>:</h3>\n",
    "<b><a href=\"https://www.youtube.com/@Ekaterina_Schulmann\">Ekaterina_Schulmann</a></b><br>\n",
    "<b><a href=\"https://www.youtube.com/@varlamov\">varlamov</a></b><br>\n",
    "<b><a href=\"https://www.youtube.com/@Max_Katz\">Max_Katz</a></b><br>\n",
    "<b><a href=\"https://www.youtube.com/@besogontv\">besogontv</a></b> (pro-Kremlin)<br>'''),\n",
    "pn.pane.PNG('peace1.png', width=200)],\n",
    "    sidebar_width=220,\n",
    "    header_background='#d3eaf2',\n",
    "    header_color='#4c3561',\n",
    "    #accent_base_color='#daa520',\n",
    "    main=[pn.Row(pn.Column(w_yearrange, wordcloud), \n",
    "        pn.Column(w_channel_feat, ch_barplot, w_video_feat, pn.Row(vid_barchrtr, vid_linechrt)))],\n",
    "    main_max_width='100%', accent_base_color='#2a1340'\n",
    ")\n",
    "\n",
    "#template.show()\n",
    "template.servable();"
   ]
  }
 ],
 "metadata": {
  "kernelspec": {
   "display_name": "venv1",
   "language": "python",
   "name": "python3"
  },
  "language_info": {
   "codemirror_mode": {
    "name": "ipython",
    "version": 3
   },
   "file_extension": ".py",
   "mimetype": "text/x-python",
   "name": "python",
   "nbconvert_exporter": "python",
   "pygments_lexer": "ipython3",
   "version": "3.9.15"
  },
  "orig_nbformat": 4,
  "vscode": {
   "interpreter": {
    "hash": "4527709ef9fa4f41c93c0238cd9aed42edf6ae8b5008332179c737877aa28289"
   }
  }
 },
 "nbformat": 4,
 "nbformat_minor": 2
}
